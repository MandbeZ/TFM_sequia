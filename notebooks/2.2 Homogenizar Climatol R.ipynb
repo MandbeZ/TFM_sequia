{
 "cells": [
  {
   "cell_type": "markdown",
   "id": "86198aea",
   "metadata": {},
   "source": [
    "# HOMOGENIZAR DATOS CON CLIMATOL - R"
   ]
  },
  {
   "cell_type": "code",
   "execution_count": null,
   "id": "cf3167c0",
   "metadata": {},
   "outputs": [],
   "source": [
    "#Instalar Climatol -  solo instalar una vez\n",
    "#install.packages(\"climatol\")"
   ]
  },
  {
   "cell_type": "code",
   "execution_count": null,
   "id": "a7521302",
   "metadata": {},
   "outputs": [],
   "source": [
    "#Cargar climatol\n",
    "library(climatol)"
   ]
  },
  {
   "cell_type": "code",
   "execution_count": null,
   "id": "bf265107",
   "metadata": {},
   "outputs": [],
   "source": [
    "#Configurar ruta del archivo\n",
    "setwd(\"../datos/estaciones_climatol\")\n",
    "getwd()"
   ]
  },
  {
   "cell_type": "code",
   "execution_count": null,
   "id": "48c548e4",
   "metadata": {},
   "outputs": [],
   "source": [
    "anio_min<-1981 #año mínimo para el análisis\n",
    "anio_max<-2020 #año máximo para el análisis"
   ]
  },
  {
   "cell_type": "markdown",
   "id": "defbcf2b",
   "metadata": {},
   "source": [
    "## PARA PRECIPITACION"
   ]
  },
  {
   "cell_type": "code",
   "execution_count": null,
   "id": "791bae09",
   "metadata": {
    "scrolled": true
   },
   "outputs": [],
   "source": [
    "#1.Convertir los datos a formato climatol \n",
    "daily2climatol(stfile = \"stations.txt\", stcol = 1:6, datcol = c(1:3,4), varcli=\"pre\",anyi = anio_min,anyf = anio_max, mindat = 1095, sep = \",\", na.strings = \"NA\")"
   ]
  },
  {
   "cell_type": "code",
   "execution_count": null,
   "id": "3f10834b",
   "metadata": {
    "scrolled": true
   },
   "outputs": [],
   "source": [
    "#2.Aplicar homogen en modo exploratorio diario\n",
    "homogen(\"pre\",anio_min, anio_max, expl = TRUE)"
   ]
  },
  {
   "cell_type": "code",
   "execution_count": null,
   "id": "ed570ffb",
   "metadata": {},
   "outputs": [],
   "source": [
    "#3.Transformar los datos diarios a datos mensuales  valm = 1 para precipitaci?n\n",
    "dd2m(varcli = \"pre\",anio_min,anio_max,valm = 1)"
   ]
  },
  {
   "cell_type": "code",
   "execution_count": null,
   "id": "b5741f69",
   "metadata": {
    "scrolled": true
   },
   "outputs": [],
   "source": [
    "#4.Aplicar homogen en modo exploratorio mensual\n",
    "homogen(\"pre-m\",anio_min, anio_max, expl = TRUE)"
   ]
  },
  {
   "cell_type": "code",
   "execution_count": null,
   "id": "3cbea0dd",
   "metadata": {},
   "outputs": [],
   "source": [
    "#5.Ajuste mensual  std = 2 (El valor 2 se utiliza para variables como precipitaci?n)\n",
    "#dz.min y dz.max Histogram of normalized anomalies \n",
    "#Histogram of maximum windowed SNHT para snht1  ,  Histogram of maximum global SNHT  snht2\n",
    "homogen(\"pre-m\",anio_min, anio_max, dz.min = -9, dz.max = 10, snht1 = 30, snht2 = 44, std =2, cutlev = 2.3, vmin = 0 )"
   ]
  },
  {
   "cell_type": "code",
   "execution_count": null,
   "id": "4b13c3a2",
   "metadata": {
    "scrolled": true
   },
   "outputs": [],
   "source": [
    "#6.Ajuste diario (metad = TRUE toma los break mensuales)\n",
    "homogen(\"pre\",anio_min, anio_max,  dz.min = -16, dz.max = 26, snht1 = 220, snht2 = 250, std =2, vmin = 0, metad = TRUE)"
   ]
  },
  {
   "cell_type": "code",
   "execution_count": null,
   "id": "a762312f",
   "metadata": {},
   "outputs": [],
   "source": [
    "#7.Generar las series homogenizadas diarias\n",
    "dahstat('pre',anio_min,anio_max, stat = 'series')"
   ]
  },
  {
   "cell_type": "code",
   "execution_count": null,
   "id": "6a561087",
   "metadata": {},
   "outputs": [],
   "source": [
    "#8.Generar las series homogenizadas mensuales\n",
    "dahstat('pre-m',anio_min,anio_max, stat = 'series')"
   ]
  },
  {
   "cell_type": "markdown",
   "id": "8a3e62b9",
   "metadata": {},
   "source": [
    "## PARA TEMPERATURA MAXIMA"
   ]
  },
  {
   "cell_type": "code",
   "execution_count": null,
   "id": "fa25add1",
   "metadata": {
    "scrolled": true
   },
   "outputs": [],
   "source": [
    "#1.Convertir los datos a formato climatol \n",
    "daily2climatol(stfile = \"stations.txt\", stcol = 1:6, datcol = c(1:3,5), varcli=\"tmax\",anyi = anio_min ,anyf = anio_max, mindat = 365, sep = \",\", na.strings = \"NA\")"
   ]
  },
  {
   "cell_type": "code",
   "execution_count": null,
   "id": "af019f98",
   "metadata": {},
   "outputs": [],
   "source": [
    "#2.Aplicar homogen en modo exploratorio diario\n",
    "homogen(\"tmax\",anio_min, anio_max, expl = TRUE)"
   ]
  },
  {
   "cell_type": "code",
   "execution_count": null,
   "id": "4b56ba3b",
   "metadata": {
    "scrolled": true
   },
   "outputs": [],
   "source": [
    "#3.Transformar los datos diarios a datos mensuales  valm = 2 para temperatua maxima\n",
    "dd2m(varcli = \"tmax\", anio_min,anio_max,valm = 2)"
   ]
  },
  {
   "cell_type": "code",
   "execution_count": null,
   "id": "4e17d9ea",
   "metadata": {
    "scrolled": true
   },
   "outputs": [],
   "source": [
    "#4.Aplicar homogen en modo exploratorio mensual\n",
    "homogen(\"tmax-m\",anio_min, anio_max, expl = TRUE)"
   ]
  },
  {
   "cell_type": "code",
   "execution_count": null,
   "id": "2e695217",
   "metadata": {
    "scrolled": true
   },
   "outputs": [],
   "source": [
    "#5.Ajuste mensual  std =3 (El valor 3 se utiliza para variables como temperatura m?xima y m?nima)\n",
    "homogen(\"tmax-m\",anio_min, anio_max, dz.min = -8, dz.max = 6, snht1 = 80, snht2 = 170, std = 3, vmin = -10, cutlev = 2.3)"
   ]
  },
  {
   "cell_type": "code",
   "execution_count": null,
   "id": "7cd572ad",
   "metadata": {},
   "outputs": [],
   "source": [
    "#6.Ajuste diario (metad = TRUE toma los break mensuales)\n",
    "homogen(\"tmax\",anio_min, anio_max, dz.min = -30, dz.max = 50, snht1 = 500, snht2 = 3500,std =3, vmin = -10, vmax = 30, metad = TRUE)"
   ]
  },
  {
   "cell_type": "code",
   "execution_count": null,
   "id": "38ca306c",
   "metadata": {},
   "outputs": [],
   "source": [
    "#7.Generar las series homogenizadas diarias\n",
    "dahstat('tmax',anio_min,anio_max, stat = 'series')"
   ]
  },
  {
   "cell_type": "code",
   "execution_count": null,
   "id": "59afdc2f",
   "metadata": {},
   "outputs": [],
   "source": [
    "#8.Generar las series homogenizadas mensuales\n",
    "dahstat('tmax-m',anio_min,anio_max, stat = 'series')"
   ]
  },
  {
   "cell_type": "markdown",
   "id": "1cd565e6",
   "metadata": {},
   "source": [
    "## PARA TEMPERATURA MINIMA"
   ]
  },
  {
   "cell_type": "code",
   "execution_count": null,
   "id": "483043cf",
   "metadata": {
    "scrolled": true
   },
   "outputs": [],
   "source": [
    "#1.Convertir los datos a formato climatol \n",
    "daily2climatol(stfile = \"stations.txt\", stcol = 1:6, datcol = c(1:3,6), varcli=\"tmin\",anyi = anio_min ,anyf = anio_max, mindat = 365, sep = \",\", na.strings = \"NA\")"
   ]
  },
  {
   "cell_type": "code",
   "execution_count": null,
   "id": "adcbcaef",
   "metadata": {
    "scrolled": true
   },
   "outputs": [],
   "source": [
    "#2.Aplicar homogen en modo exploratorio diario\n",
    "homogen(\"tmin\",anio_min, anio_max, expl = TRUE)"
   ]
  },
  {
   "cell_type": "code",
   "execution_count": null,
   "id": "9c9e70ce",
   "metadata": {},
   "outputs": [],
   "source": [
    "#3.Transformar los datos diarios a datos mensuales  valm = 2 (mean) para temperatura\n",
    "dd2m(varcli = \"tmin\", anio_min,anio_max,valm = 2)"
   ]
  },
  {
   "cell_type": "code",
   "execution_count": null,
   "id": "bea557a7",
   "metadata": {},
   "outputs": [],
   "source": [
    "#4.Aplicar homogen en modo exploratorio mensual\n",
    "homogen(\"tmin-m\",anio_min, anio_max, expl = TRUE)"
   ]
  },
  {
   "cell_type": "code",
   "execution_count": null,
   "id": "925ed10d",
   "metadata": {},
   "outputs": [],
   "source": [
    "#5.Ajuste mensual  std =3 (El valor 3 se utiliza para variables como temperatura m?xima y m?nima)\n",
    "homogen(\"tmin-m\",anio_min, anio_max, dz.min = -5, dz.max = 6, snht1 = 80, snht2 = 170, std = 3, vmin = -20 , cutlev = 2.3)"
   ]
  },
  {
   "cell_type": "code",
   "execution_count": null,
   "id": "e22cdc0b",
   "metadata": {
    "scrolled": true
   },
   "outputs": [],
   "source": [
    "#6.Ajuste diario (metad = TRUE toma los break mensuales)\n",
    "homogen(\"tmin\",anio_min, anio_max, dz.min = -13, dz.max = 12, snht1 = 400, snht2 = 2400, std =3, vmin = -20, vmax = 30 , metad = TRUE)"
   ]
  },
  {
   "cell_type": "code",
   "execution_count": null,
   "id": "4d736b9c",
   "metadata": {},
   "outputs": [],
   "source": [
    "#7.Generar las series homogenizadas diarias\n",
    "dahstat('tmin',anio_min,anio_max, stat = 'series')"
   ]
  },
  {
   "cell_type": "code",
   "execution_count": null,
   "id": "9e2628f0",
   "metadata": {},
   "outputs": [],
   "source": [
    "#8.Generar las series homogenizadas mensuales\n",
    "dahstat('tmin-m',anio_min,anio_max, stat = 'series')"
   ]
  },
  {
   "cell_type": "markdown",
   "id": "426c7e34",
   "metadata": {},
   "source": [
    "## PARA TEMPERATURA MEDIA"
   ]
  },
  {
   "cell_type": "code",
   "execution_count": null,
   "id": "564f3ef1",
   "metadata": {
    "scrolled": true
   },
   "outputs": [],
   "source": [
    "#1.Convertir los datos a formato climatol \n",
    "daily2climatol(stfile = \"stations.txt\", stcol = 1:6, datcol = c(1:3,7), varcli=\"tmed\",anyi = anio_min ,anyf = anio_max, mindat = 365, sep = \",\", na.strings = \"NA\")"
   ]
  },
  {
   "cell_type": "code",
   "execution_count": null,
   "id": "227f6787",
   "metadata": {
    "scrolled": true
   },
   "outputs": [],
   "source": [
    "#2.Aplicar homogen en modo exploratorio diario\n",
    "homogen(\"tmed\",anio_min, anio_max, expl = TRUE)"
   ]
  },
  {
   "cell_type": "code",
   "execution_count": null,
   "id": "58439382",
   "metadata": {},
   "outputs": [],
   "source": [
    "#3.Transformar los datos diarios a datos mensuales  valm = 2 (mean) para temperatura\n",
    "dd2m(varcli = \"tmed\", anio_min,anio_max,valm = 2)"
   ]
  },
  {
   "cell_type": "code",
   "execution_count": null,
   "id": "af2250cc",
   "metadata": {
    "scrolled": true
   },
   "outputs": [],
   "source": [
    "#4.Aplicar homogen en modo exploratorio mensual\n",
    "homogen(\"tmed-m\",anio_min, anio_max, expl = TRUE)"
   ]
  },
  {
   "cell_type": "code",
   "execution_count": null,
   "id": "b2438120",
   "metadata": {},
   "outputs": [],
   "source": [
    "#5.Ajuste mensual  std =3 (El valor 3 se utiliza para variables como temperatura m?xima y m?nima)\n",
    "homogen(\"tmed-m\",anio_min, anio_max, dz.min = -5, dz.max = 6, snht1 = 80, snht2 = 170, std = 3, vmin = -20 , cutlev = 2.3)"
   ]
  },
  {
   "cell_type": "code",
   "execution_count": null,
   "id": "d498afe9",
   "metadata": {},
   "outputs": [],
   "source": [
    "#6.Ajuste diario (metad = TRUE toma los break mensuales)\n",
    "homogen(\"tmed\",anio_min, anio_max, dz.min = -10, dz.max = 12, snht1 = 400, snht2 = 2200, std =3, vmin = -20, vmax = 30 , metad = TRUE)"
   ]
  },
  {
   "cell_type": "code",
   "execution_count": null,
   "id": "2ad42c43",
   "metadata": {},
   "outputs": [],
   "source": [
    "#7.Generar las series homogenizadas diarias\n",
    "dahstat('tmed',anio_min,anio_max, stat = 'series')"
   ]
  },
  {
   "cell_type": "code",
   "execution_count": null,
   "id": "77528a8c",
   "metadata": {},
   "outputs": [],
   "source": [
    "#8.Generar las series homogenizadas mensuales\n",
    "dahstat('tmed-m',anio_min,anio_max, stat = 'series')"
   ]
  }
 ],
 "metadata": {
  "kernelspec": {
   "display_name": "R",
   "language": "R",
   "name": "r"
  },
  "language_info": {
   "codemirror_mode": "r",
   "file_extension": ".r",
   "mimetype": "text/x-r-source",
   "name": "R",
   "pygments_lexer": "r",
   "version": "4.1.2"
  }
 },
 "nbformat": 4,
 "nbformat_minor": 5
}
