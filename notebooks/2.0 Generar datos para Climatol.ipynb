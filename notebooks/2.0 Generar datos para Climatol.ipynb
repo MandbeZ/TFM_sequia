{
 "cells": [
  {
   "cell_type": "markdown",
   "id": "85cb7fcf",
   "metadata": {},
   "source": [
    "# Generar datos para Climatol"
   ]
  },
  {
   "cell_type": "code",
   "execution_count": null,
   "id": "bfe4e2a0",
   "metadata": {},
   "outputs": [],
   "source": [
    "'''instalar openpyxl para abrir varias hojas de un libro de excel'''\n",
    "# %pip install openpyxl"
   ]
  },
  {
   "cell_type": "code",
   "execution_count": 2,
   "id": "e2ff71af",
   "metadata": {},
   "outputs": [],
   "source": [
    "import pandas as pd\n",
    "import numpy as np\n",
    "import datetime\n",
    "from calendar import monthrange"
   ]
  },
  {
   "cell_type": "markdown",
   "id": "5ad65fd0",
   "metadata": {},
   "source": [
    "## Generar archivos txt para cada estacion"
   ]
  },
  {
   "cell_type": "code",
   "execution_count": 3,
   "id": "9e0d857c",
   "metadata": {},
   "outputs": [],
   "source": [
    "path_f03 = '../datos/1.0.Estaciones/estaciones_senamhi_generado.csv'\n",
    "df03 = pd.read_csv(path_f03)"
   ]
  },
  {
   "cell_type": "code",
   "execution_count": 4,
   "id": "d2169bdc",
   "metadata": {},
   "outputs": [],
   "source": [
    "for p in df03['archivo_csv_corregido']:\n",
    "    file = pd.read_csv('../datos/1.0.formato_csv_corregido/'+p)\n",
    "    file['fecha']=pd.to_datetime(file['fecha'])\n",
    "    file['anio']=file['fecha'].dt.year\n",
    "    file['mes']=file['fecha'].dt.month\n",
    "    file['dia']=file['fecha'].dt.day\n",
    "    file=file.reindex(columns = ['anio','mes','dia','pp','tmax','tmin','tmed','hmed'])\n",
    "    path_a = p.split('_')\n",
    "    path_a2 = path_a[1]\n",
    "    path_f = '../datos/2.1.estaciones_climatol/' + path_a2 + '.txt'    \n",
    "    file.to_csv(path_f, na_rep='NA', index=False, header=False)"
   ]
  },
  {
   "cell_type": "markdown",
   "id": "104b39a6",
   "metadata": {},
   "source": [
    "## Generar el archivo stations.txt"
   ]
  },
  {
   "cell_type": "code",
   "execution_count": 5,
   "id": "b810d7f0",
   "metadata": {},
   "outputs": [],
   "source": [
    "path_f = '../datos/1.0.Estaciones/estaciones_senamhi_generado.csv'\n",
    "df_sta = pd.read_csv(path_f)"
   ]
  },
  {
   "cell_type": "code",
   "execution_count": 6,
   "id": "2ea2fd1c",
   "metadata": {},
   "outputs": [],
   "source": [
    "cols_0 = ['archivo', 'lon', 'lat', 'altitud', 'cod', 'nombre']\n",
    "df_s = pd.DataFrame(columns=cols_0)\n",
    "df_s['lon'] = df_sta['lon']\n",
    "df_s['lat'] = df_sta['lat']\n",
    "df_s['altitud'] = df_sta['altitud']\n",
    "df_s['cod'] = df_sta['id']\n",
    "\n",
    "t = df_sta.shape[0]\n",
    "for i in range (0, t):\n",
    "    df_s.loc[i,'archivo'] = chr(34) + str(df_sta.loc[i,'id']) + '.txt' + chr(34)\n",
    "    df_s.loc[i,'nombre'] = chr(34) + df_sta.loc[i,'estacion'] + chr(34)\n",
    "\n",
    "df_s.to_csv('../datos/2.1.estaciones_climatol/stations.txt', index=False, header=False)"
   ]
  },
  {
   "cell_type": "code",
   "execution_count": 7,
   "id": "813656f4",
   "metadata": {},
   "outputs": [
    {
     "data": {
      "text/plain": [
       "'Reemplazar comillas en el txt'"
      ]
     },
     "execution_count": 7,
     "metadata": {},
     "output_type": "execute_result"
    }
   ],
   "source": [
    "'''Reemplazar comillas en el txt'''"
   ]
  }
 ],
 "metadata": {
  "kernelspec": {
   "display_name": "Python 3 (ipykernel)",
   "language": "python",
   "name": "python3"
  },
  "language_info": {
   "codemirror_mode": {
    "name": "ipython",
    "version": 3
   },
   "file_extension": ".py",
   "mimetype": "text/x-python",
   "name": "python",
   "nbconvert_exporter": "python",
   "pygments_lexer": "ipython3",
   "version": "3.9.8"
  }
 },
 "nbformat": 4,
 "nbformat_minor": 5
}
