{
  "cells": [
    {
      "cell_type": "markdown",
      "metadata": {
        "id": "view-in-github",
        "colab_type": "text"
      },
      "source": [
        "<a href=\"https://colab.research.google.com/github/MandbeZ/TFM_sequia/blob/main/notebooks/4_1_Modelos_Estad%C3%ADsticos_ML__SPI_SPEI(Por_cluster).ipynb\" target=\"_parent\"><img src=\"https://colab.research.google.com/assets/colab-badge.svg\" alt=\"Open In Colab\"/></a>"
      ]
    },
    {
      "cell_type": "markdown",
      "metadata": {
        "id": "i47hVf8HoVhg"
      },
      "source": [
        "Instalación de SKtime"
      ]
    },
    {
      "cell_type": "code",
      "execution_count": null,
      "metadata": {
        "colab": {
          "base_uri": "https://localhost:8080/"
        },
        "id": "vkO36W0ioP_i",
        "outputId": "b4a73a45-dc09-4d30-9a47-29fec2fd3420"
      },
      "outputs": [
        {
          "output_type": "stream",
          "name": "stdout",
          "text": [
            "Requirement already satisfied: sktime in /usr/local/lib/python3.7/dist-packages (0.10.0)\n",
            "Requirement already satisfied: numba>=0.53 in /usr/local/lib/python3.7/dist-packages (from sktime) (0.55.1)\n",
            "Requirement already satisfied: pandas<1.5.0,>=1.1.0 in /usr/local/lib/python3.7/dist-packages (from sktime) (1.3.5)\n",
            "Requirement already satisfied: scikit-learn>=0.24.0 in /usr/local/lib/python3.7/dist-packages (from sktime) (1.0.2)\n",
            "Requirement already satisfied: statsmodels>=0.12.1 in /usr/local/lib/python3.7/dist-packages (from sktime) (0.13.1)\n",
            "Requirement already satisfied: deprecated>=1.2.13 in /usr/local/lib/python3.7/dist-packages (from sktime) (1.2.13)\n",
            "Requirement already satisfied: numpy<1.22,>=1.21.0 in /usr/local/lib/python3.7/dist-packages (from sktime) (1.21.5)\n",
            "Requirement already satisfied: wrapt<2,>=1.10 in /usr/local/lib/python3.7/dist-packages (from deprecated>=1.2.13->sktime) (1.13.3)\n",
            "Requirement already satisfied: setuptools in /usr/local/lib/python3.7/dist-packages (from numba>=0.53->sktime) (57.4.0)\n",
            "Requirement already satisfied: llvmlite<0.39,>=0.38.0rc1 in /usr/local/lib/python3.7/dist-packages (from numba>=0.53->sktime) (0.38.0)\n",
            "Requirement already satisfied: python-dateutil>=2.7.3 in /usr/local/lib/python3.7/dist-packages (from pandas<1.5.0,>=1.1.0->sktime) (2.8.2)\n",
            "Requirement already satisfied: pytz>=2017.3 in /usr/local/lib/python3.7/dist-packages (from pandas<1.5.0,>=1.1.0->sktime) (2018.9)\n",
            "Requirement already satisfied: six>=1.5 in /usr/local/lib/python3.7/dist-packages (from python-dateutil>=2.7.3->pandas<1.5.0,>=1.1.0->sktime) (1.15.0)\n",
            "Requirement already satisfied: joblib>=0.11 in /usr/local/lib/python3.7/dist-packages (from scikit-learn>=0.24.0->sktime) (1.1.0)\n",
            "Requirement already satisfied: threadpoolctl>=2.0.0 in /usr/local/lib/python3.7/dist-packages (from scikit-learn>=0.24.0->sktime) (3.0.0)\n",
            "Requirement already satisfied: scipy>=1.1.0 in /usr/local/lib/python3.7/dist-packages (from scikit-learn>=0.24.0->sktime) (1.7.3)\n",
            "Requirement already satisfied: patsy>=0.5.2 in /usr/local/lib/python3.7/dist-packages (from statsmodels>=0.12.1->sktime) (0.5.2)\n",
            "Requirement already satisfied: sktime[all_extras] in /usr/local/lib/python3.7/dist-packages (0.10.0)\n",
            "Requirement already satisfied: scikit-learn>=0.24.0 in /usr/local/lib/python3.7/dist-packages (from sktime[all_extras]) (1.0.2)\n",
            "Requirement already satisfied: statsmodels>=0.12.1 in /usr/local/lib/python3.7/dist-packages (from sktime[all_extras]) (0.13.1)\n",
            "Requirement already satisfied: numba>=0.53 in /usr/local/lib/python3.7/dist-packages (from sktime[all_extras]) (0.55.1)\n",
            "Requirement already satisfied: pandas<1.5.0,>=1.1.0 in /usr/local/lib/python3.7/dist-packages (from sktime[all_extras]) (1.3.5)\n",
            "Requirement already satisfied: numpy<1.22,>=1.21.0 in /usr/local/lib/python3.7/dist-packages (from sktime[all_extras]) (1.21.5)\n",
            "Requirement already satisfied: deprecated>=1.2.13 in /usr/local/lib/python3.7/dist-packages (from sktime[all_extras]) (1.2.13)\n",
            "Requirement already satisfied: pyod>=0.8.0 in /usr/local/lib/python3.7/dist-packages (from sktime[all_extras]) (0.9.7)\n",
            "Requirement already satisfied: pystan==2.19.1.1 in /usr/local/lib/python3.7/dist-packages (from sktime[all_extras]) (2.19.1.1)\n",
            "Requirement already satisfied: matplotlib>=3.3.2 in /usr/local/lib/python3.7/dist-packages (from sktime[all_extras]) (3.5.1)\n",
            "Requirement already satisfied: seaborn>=0.11.0 in /usr/local/lib/python3.7/dist-packages (from sktime[all_extras]) (0.11.2)\n",
            "Requirement already satisfied: prophet>=1.0 in /usr/local/lib/python3.7/dist-packages (from sktime[all_extras]) (1.0.1)\n",
            "Requirement already satisfied: dtw-python in /usr/local/lib/python3.7/dist-packages (from sktime[all_extras]) (1.1.12)\n",
            "Requirement already satisfied: tsfresh>=0.17.0 in /usr/local/lib/python3.7/dist-packages (from sktime[all_extras]) (0.19.0)\n",
            "Requirement already satisfied: esig==0.9.7 in /usr/local/lib/python3.7/dist-packages (from sktime[all_extras]) (0.9.7)\n",
            "Requirement already satisfied: stumpy>=1.5.1 in /usr/local/lib/python3.7/dist-packages (from sktime[all_extras]) (1.10.2)\n",
            "Requirement already satisfied: scikit-posthocs>=0.6.5 in /usr/local/lib/python3.7/dist-packages (from sktime[all_extras]) (0.6.7)\n",
            "Requirement already satisfied: hcrystalball>=0.1.9 in /usr/local/lib/python3.7/dist-packages (from sktime[all_extras]) (0.1.10)\n",
            "Requirement already satisfied: pmdarima!=1.8.1,>=1.8.0 in /usr/local/lib/python3.7/dist-packages (from sktime[all_extras]) (1.8.4)\n",
            "Requirement already satisfied: tbats>=1.1.0 in /usr/local/lib/python3.7/dist-packages (from sktime[all_extras]) (1.1.0)\n",
            "Requirement already satisfied: Cython!=0.25.1,>=0.22 in /usr/local/lib/python3.7/dist-packages (from pystan==2.19.1.1->sktime[all_extras]) (0.29.26)\n",
            "Requirement already satisfied: wrapt<2,>=1.10 in /usr/local/lib/python3.7/dist-packages (from deprecated>=1.2.13->sktime[all_extras]) (1.13.3)\n",
            "Requirement already satisfied: workalendar>=10.1 in /usr/local/lib/python3.7/dist-packages (from hcrystalball>=0.1.9->sktime[all_extras]) (16.2.0)\n",
            "Requirement already satisfied: scipy>=1.4 in /usr/local/lib/python3.7/dist-packages (from hcrystalball>=0.1.9->sktime[all_extras]) (1.7.3)\n",
            "Requirement already satisfied: fonttools>=4.22.0 in /usr/local/lib/python3.7/dist-packages (from matplotlib>=3.3.2->sktime[all_extras]) (4.29.1)\n",
            "Requirement already satisfied: python-dateutil>=2.7 in /usr/local/lib/python3.7/dist-packages (from matplotlib>=3.3.2->sktime[all_extras]) (2.8.2)\n",
            "Requirement already satisfied: kiwisolver>=1.0.1 in /usr/local/lib/python3.7/dist-packages (from matplotlib>=3.3.2->sktime[all_extras]) (1.3.2)\n",
            "Requirement already satisfied: pillow>=6.2.0 in /usr/local/lib/python3.7/dist-packages (from matplotlib>=3.3.2->sktime[all_extras]) (7.1.2)\n",
            "Requirement already satisfied: packaging>=20.0 in /usr/local/lib/python3.7/dist-packages (from matplotlib>=3.3.2->sktime[all_extras]) (21.3)\n",
            "Requirement already satisfied: cycler>=0.10 in /usr/local/lib/python3.7/dist-packages (from matplotlib>=3.3.2->sktime[all_extras]) (0.11.0)\n",
            "Requirement already satisfied: pyparsing>=2.2.1 in /usr/local/lib/python3.7/dist-packages (from matplotlib>=3.3.2->sktime[all_extras]) (3.0.7)\n",
            "Requirement already satisfied: llvmlite<0.39,>=0.38.0rc1 in /usr/local/lib/python3.7/dist-packages (from numba>=0.53->sktime[all_extras]) (0.38.0)\n",
            "Requirement already satisfied: setuptools in /usr/local/lib/python3.7/dist-packages (from numba>=0.53->sktime[all_extras]) (57.4.0)\n",
            "Requirement already satisfied: pytz>=2017.3 in /usr/local/lib/python3.7/dist-packages (from pandas<1.5.0,>=1.1.0->sktime[all_extras]) (2018.9)\n",
            "Requirement already satisfied: urllib3 in /usr/local/lib/python3.7/dist-packages (from pmdarima!=1.8.1,>=1.8.0->sktime[all_extras]) (1.24.3)\n",
            "Requirement already satisfied: joblib>=0.11 in /usr/local/lib/python3.7/dist-packages (from pmdarima!=1.8.1,>=1.8.0->sktime[all_extras]) (1.1.0)\n",
            "Requirement already satisfied: cmdstanpy==0.9.68 in /usr/local/lib/python3.7/dist-packages (from prophet>=1.0->sktime[all_extras]) (0.9.68)\n",
            "Requirement already satisfied: holidays>=0.10.2 in /usr/local/lib/python3.7/dist-packages (from prophet>=1.0->sktime[all_extras]) (0.10.5.2)\n",
            "Requirement already satisfied: tqdm>=4.36.1 in /usr/local/lib/python3.7/dist-packages (from prophet>=1.0->sktime[all_extras]) (4.62.3)\n",
            "Requirement already satisfied: convertdate>=2.1.2 in /usr/local/lib/python3.7/dist-packages (from prophet>=1.0->sktime[all_extras]) (2.4.0)\n",
            "Requirement already satisfied: LunarCalendar>=0.0.9 in /usr/local/lib/python3.7/dist-packages (from prophet>=1.0->sktime[all_extras]) (0.0.9)\n",
            "Requirement already satisfied: setuptools-git>=1.2 in /usr/local/lib/python3.7/dist-packages (from prophet>=1.0->sktime[all_extras]) (1.2)\n",
            "Requirement already satisfied: ujson in /usr/local/lib/python3.7/dist-packages (from cmdstanpy==0.9.68->prophet>=1.0->sktime[all_extras]) (5.1.0)\n",
            "Requirement already satisfied: pymeeus<=1,>=0.3.13 in /usr/local/lib/python3.7/dist-packages (from convertdate>=2.1.2->prophet>=1.0->sktime[all_extras]) (0.5.11)\n",
            "Requirement already satisfied: six in /usr/local/lib/python3.7/dist-packages (from holidays>=0.10.2->prophet>=1.0->sktime[all_extras]) (1.15.0)\n",
            "Requirement already satisfied: hijri-converter in /usr/local/lib/python3.7/dist-packages (from holidays>=0.10.2->prophet>=1.0->sktime[all_extras]) (2.2.2)\n",
            "Requirement already satisfied: korean-lunar-calendar in /usr/local/lib/python3.7/dist-packages (from holidays>=0.10.2->prophet>=1.0->sktime[all_extras]) (0.2.1)\n",
            "Requirement already satisfied: ephem>=3.7.5.3 in /usr/local/lib/python3.7/dist-packages (from LunarCalendar>=0.0.9->prophet>=1.0->sktime[all_extras]) (4.1.3)\n",
            "Requirement already satisfied: threadpoolctl>=2.0.0 in /usr/local/lib/python3.7/dist-packages (from scikit-learn>=0.24.0->sktime[all_extras]) (3.0.0)\n",
            "Requirement already satisfied: patsy>=0.5.2 in /usr/local/lib/python3.7/dist-packages (from statsmodels>=0.12.1->sktime[all_extras]) (0.5.2)\n",
            "Requirement already satisfied: matrixprofile<2.0.0,>=1.1.10 in /usr/local/lib/python3.7/dist-packages (from tsfresh>=0.17.0->sktime[all_extras]) (1.1.10)\n",
            "Requirement already satisfied: cloudpickle in /usr/local/lib/python3.7/dist-packages (from tsfresh>=0.17.0->sktime[all_extras]) (2.0.0)\n",
            "Requirement already satisfied: dask[dataframe]>=2.9.0 in /usr/local/lib/python3.7/dist-packages (from tsfresh>=0.17.0->sktime[all_extras]) (2.12.0)\n",
            "Requirement already satisfied: distributed>=2.11.0 in /usr/local/lib/python3.7/dist-packages (from tsfresh>=0.17.0->sktime[all_extras]) (2.30.1)\n",
            "Requirement already satisfied: requests>=2.9.1 in /usr/local/lib/python3.7/dist-packages (from tsfresh>=0.17.0->sktime[all_extras]) (2.23.0)\n",
            "Requirement already satisfied: partd>=0.3.10 in /usr/local/lib/python3.7/dist-packages (from dask[dataframe]>=2.9.0->tsfresh>=0.17.0->sktime[all_extras]) (1.2.0)\n",
            "Requirement already satisfied: toolz>=0.7.3 in /usr/local/lib/python3.7/dist-packages (from dask[dataframe]>=2.9.0->tsfresh>=0.17.0->sktime[all_extras]) (0.11.2)\n",
            "Requirement already satisfied: fsspec>=0.6.0 in /usr/local/lib/python3.7/dist-packages (from dask[dataframe]>=2.9.0->tsfresh>=0.17.0->sktime[all_extras]) (2022.1.0)\n",
            "Requirement already satisfied: zict>=0.1.3 in /usr/local/lib/python3.7/dist-packages (from distributed>=2.11.0->tsfresh>=0.17.0->sktime[all_extras]) (2.0.0)\n",
            "Requirement already satisfied: sortedcontainers!=2.0.0,!=2.0.1 in /usr/local/lib/python3.7/dist-packages (from distributed>=2.11.0->tsfresh>=0.17.0->sktime[all_extras]) (2.4.0)\n",
            "Requirement already satisfied: click>=6.6 in /usr/local/lib/python3.7/dist-packages (from distributed>=2.11.0->tsfresh>=0.17.0->sktime[all_extras]) (7.1.2)\n",
            "Requirement already satisfied: msgpack>=0.6.0 in /usr/local/lib/python3.7/dist-packages (from distributed>=2.11.0->tsfresh>=0.17.0->sktime[all_extras]) (1.0.3)\n",
            "Requirement already satisfied: tornado>=5 in /usr/local/lib/python3.7/dist-packages (from distributed>=2.11.0->tsfresh>=0.17.0->sktime[all_extras]) (5.1.1)\n",
            "Requirement already satisfied: psutil>=5.0 in /usr/local/lib/python3.7/dist-packages (from distributed>=2.11.0->tsfresh>=0.17.0->sktime[all_extras]) (5.4.8)\n",
            "Requirement already satisfied: tblib>=1.6.0 in /usr/local/lib/python3.7/dist-packages (from distributed>=2.11.0->tsfresh>=0.17.0->sktime[all_extras]) (1.7.0)\n",
            "Requirement already satisfied: pyyaml in /usr/local/lib/python3.7/dist-packages (from distributed>=2.11.0->tsfresh>=0.17.0->sktime[all_extras]) (3.13)\n",
            "Requirement already satisfied: protobuf==3.11.2 in /usr/local/lib/python3.7/dist-packages (from matrixprofile<2.0.0,>=1.1.10->tsfresh>=0.17.0->sktime[all_extras]) (3.11.2)\n",
            "Requirement already satisfied: locket in /usr/local/lib/python3.7/dist-packages (from partd>=0.3.10->dask[dataframe]>=2.9.0->tsfresh>=0.17.0->sktime[all_extras]) (0.2.1)\n",
            "Requirement already satisfied: certifi>=2017.4.17 in /usr/local/lib/python3.7/dist-packages (from requests>=2.9.1->tsfresh>=0.17.0->sktime[all_extras]) (2021.10.8)\n",
            "Requirement already satisfied: chardet<4,>=3.0.2 in /usr/local/lib/python3.7/dist-packages (from requests>=2.9.1->tsfresh>=0.17.0->sktime[all_extras]) (3.0.4)\n",
            "Requirement already satisfied: idna<3,>=2.5 in /usr/local/lib/python3.7/dist-packages (from requests>=2.9.1->tsfresh>=0.17.0->sktime[all_extras]) (2.10)\n",
            "Requirement already satisfied: importlib-metadata in /usr/local/lib/python3.7/dist-packages (from workalendar>=10.1->hcrystalball>=0.1.9->sktime[all_extras]) (4.10.1)\n",
            "Requirement already satisfied: backports.zoneinfo in /usr/local/lib/python3.7/dist-packages (from workalendar>=10.1->hcrystalball>=0.1.9->sktime[all_extras]) (0.2.1)\n",
            "Requirement already satisfied: lunardate in /usr/local/lib/python3.7/dist-packages (from workalendar>=10.1->hcrystalball>=0.1.9->sktime[all_extras]) (0.2.0)\n",
            "Requirement already satisfied: pyluach in /usr/local/lib/python3.7/dist-packages (from workalendar>=10.1->hcrystalball>=0.1.9->sktime[all_extras]) (1.3.0)\n",
            "Requirement already satisfied: heapdict in /usr/local/lib/python3.7/dist-packages (from zict>=0.1.3->distributed>=2.11.0->tsfresh>=0.17.0->sktime[all_extras]) (1.0.1)\n",
            "Requirement already satisfied: zipp>=0.5 in /usr/local/lib/python3.7/dist-packages (from importlib-metadata->workalendar>=10.1->hcrystalball>=0.1.9->sktime[all_extras]) (3.7.0)\n",
            "Requirement already satisfied: typing-extensions>=3.6.4 in /usr/local/lib/python3.7/dist-packages (from importlib-metadata->workalendar>=10.1->hcrystalball>=0.1.9->sktime[all_extras]) (3.10.0.2)\n",
            "Requirement already satisfied: esig in /usr/local/lib/python3.7/dist-packages (0.9.7)\n",
            "Requirement already satisfied: numpy>=1.7 in /usr/local/lib/python3.7/dist-packages (from esig) (1.21.5)\n",
            "Requirement already satisfied: utils in /usr/local/lib/python3.7/dist-packages (1.0.1)\n"
          ]
        }
      ],
      "source": [
        "%pip install sktime\n",
        "%pip install sktime[all_extras]\n",
        "%pip install esig\n",
        "%pip install utils"
      ]
    },
    {
      "cell_type": "code",
      "execution_count": null,
      "metadata": {
        "id": "-Fnl9K5jkW07"
      },
      "outputs": [],
      "source": [
        "from warnings import simplefilter\n",
        "simplefilter(action=\"ignore\", category=RuntimeWarning)"
      ]
    },
    {
      "cell_type": "markdown",
      "metadata": {
        "id": "pV3oyjVVo4cm"
      },
      "source": [
        "Importar librerías básicas"
      ]
    },
    {
      "cell_type": "code",
      "execution_count": null,
      "metadata": {
        "id": "1CjfvPbmpAgU"
      },
      "outputs": [],
      "source": [
        "import pandas as pd\n",
        "import numpy as np\n",
        "import matplotlib.pyplot as plt\n",
        "\n",
        "from sklearn import preprocessing\n",
        "from sktime.utils.plotting import plot_series\n",
        "from sktime.forecasting.base import ForecastingHorizon\n",
        "from sktime.forecasting.model_selection import temporal_train_test_split\n",
        "from sktime.forecasting.compose import make_reduction\n",
        "from sktime.performance_metrics.forecasting import mean_absolute_percentage_error,\\\n",
        "                                                   mean_absolute_error, mean_squared_error\n",
        "\n",
        "# Naive Forecast / Pronóstico Ingenuo\n",
        "from sktime.forecasting.naive import NaiveForecaster\n",
        "\n",
        "# AutoARIMA\n",
        "from sktime.forecasting.arima import AutoARIMA\n",
        "\n",
        "# AutoETS\n",
        "from sktime.forecasting.ets import AutoETS\n",
        "\n",
        "# Algoritmos de Regresión de sklearn\n",
        "from sklearn.tree import DecisionTreeRegressor\n",
        "from sklearn.neighbors import KNeighborsRegressor\n",
        "from sklearn.ensemble import RandomForestRegressor\n",
        "from sklearn.linear_model import LinearRegression"
      ]
    },
    {
      "cell_type": "code",
      "execution_count": null,
      "metadata": {
        "id": "0-XkFQ5WCbJW"
      },
      "outputs": [],
      "source": [
        "t0 = pd.Timestamp.now()"
      ]
    },
    {
      "cell_type": "code",
      "execution_count": null,
      "metadata": {
        "id": "jxdXKhDeZH07"
      },
      "outputs": [],
      "source": [
        "#Definición de funciones\n",
        "\n",
        "def evaluar_modelo(test,pred):\n",
        "  print('MAPE:',mean_absolute_percentage_error(test, pred, symmetric=False)) \n",
        "  print('SMAPE:',mean_absolute_percentage_error(test, pred)) #symmetric default=True\n",
        "  print('MAE:',mean_absolute_error(test, pred) )\n",
        "  print('RMSE:',mean_squared_error(test, pred, square_root=True) ) # square_root=True RMSE , false MSE)\n",
        "  print('MSE:',mean_squared_error(test, pred, square_root=False) ) # square_root=True RMSE , false MSE)\n",
        "\n",
        "def graficar_modelo(train,test,pred,titulo='Modelo',inicio_serie=200):\n",
        "  plot_series(train[inicio_serie:], test, pred, labels=[\"y_train\", \"y_test\", \"y_pred\"])\n",
        "  plt.axhline(y=0.5, color='r', linestyle='dashed')\n",
        "  plt.title(titulo)\n",
        "  plt.show()\n",
        "\n",
        "\n",
        "def graficar_cluster(train, test, pred, cl=0, tiulo='Modelo', ini=pd.NA):\n",
        "    \n",
        "    if pd.isna(ini): ini = int(0.94*len(train))\n",
        "\n",
        "    plt.plot(train[ini:], label='train')\n",
        "    plt.plot(test,label='test')\n",
        "    plt.plot(pred, label='pred')\n",
        "    plt.axhline(y=0.5, color='r', linestyle='dashed')\n",
        "\n",
        "    plt.ylabel('cluster_'+str(cl))\n",
        "    plt.title('Modelo arima')\n",
        "    plt.rcParams[\"figure.figsize\"] = (15,10)\n",
        "    plt.legend()\n",
        "    plt.show()\n"
      ]
    },
    {
      "cell_type": "markdown",
      "metadata": {
        "id": "QyHUg5UookM1"
      },
      "source": [
        "# 1. Cargar los datos de SPI"
      ]
    },
    {
      "cell_type": "code",
      "execution_count": null,
      "metadata": {
        "id": "c_e9pqMmobcq"
      },
      "outputs": [],
      "source": [
        "def cargar_datos(archivo):\n",
        "    data = pd.read_csv('https://raw.githubusercontent.com/MandbeZ/TFM_sequia/main/datos/spi_spei/' + archivo,  sep = ',', parse_dates=True)\n",
        "    return data"
      ]
    },
    {
      "cell_type": "markdown",
      "metadata": {
        "id": "yAHMLwCUuJOj"
      },
      "source": [
        "# 2. Preprocesamiento de los datos"
      ]
    },
    {
      "cell_type": "code",
      "execution_count": null,
      "metadata": {
        "id": "iPVWivmZo4FD"
      },
      "outputs": [],
      "source": [
        "'''Llevar la  fecha a índice, configurar como periodo'''\n",
        "def procesa_datos(data):\n",
        "    data['fecha'] = pd.to_datetime(data['fecha'])\n",
        "    data = data.dropna()\n",
        "    data = data.set_index('fecha')\n",
        "    data.index = data.index.to_period('M')\n",
        "    return data"
      ]
    },
    {
      "cell_type": "markdown",
      "metadata": {
        "id": "0k2F2lE-p3Y6"
      },
      "source": [
        "## Normalizar los datos"
      ]
    },
    {
      "cell_type": "code",
      "execution_count": null,
      "metadata": {
        "id": "XfzLa7RBp1Yq"
      },
      "outputs": [],
      "source": [
        "'''para mejores resultados se pueden normalizar los datos: [0,1]'''\n",
        "def normalizar_datos(data):\n",
        "    return (data - data.min()) / ( data.max() - data.min())"
      ]
    },
    {
      "cell_type": "markdown",
      "metadata": {
        "id": "alai9CZ-CbJb"
      },
      "source": [
        "## Generar cluster"
      ]
    },
    {
      "cell_type": "code",
      "execution_count": null,
      "metadata": {
        "id": "Q7S_7aqmCbJc"
      },
      "outputs": [],
      "source": [
        "'''Devuelve un Dataframe con todas las estaciones de un determinado cluster'''\n",
        "def gen_cluster(lista_clust, clust, normalizados):\n",
        "    estaciones = lista_clust[lista_clust['cluster'] == clust]\n",
        "    nom_cols = [col for est in estaciones['id'] for col in normalizados.columns if str(est) in col]\n",
        "    datos = normalizados[nom_cols]\n",
        "    datos = datos.melt(value_name='valor').reset_index(drop=True)\n",
        "    return datos.iloc[:, 1]"
      ]
    },
    {
      "cell_type": "markdown",
      "metadata": {
        "id": "kF6aJJEJsoBL"
      },
      "source": [
        "# 3. Dividir Datos en Entrenamiento y prueba"
      ]
    },
    {
      "cell_type": "code",
      "execution_count": null,
      "metadata": {
        "id": "S3Di0reDsFI0"
      },
      "outputs": [],
      "source": [
        "'''Dividir el Dataset en Entrenamiento y prueba'''\n",
        "def dividir_datos(serie, tamanio):\n",
        "    y_train, y_test = temporal_train_test_split(serie, test_size=tamanio)\n",
        "    return y_train, y_test"
      ]
    },
    {
      "cell_type": "markdown",
      "metadata": {
        "id": "-b9zJ0O_wpIT"
      },
      "source": [
        "## Definir  el horizonte de predicción"
      ]
    },
    {
      "cell_type": "code",
      "execution_count": null,
      "metadata": {
        "id": "wEC4ZhXAwxVL"
      },
      "outputs": [],
      "source": [
        "'''Definir horizonte de predicción'''\n",
        "def horizon_prediccion(y_test):\n",
        "    return ForecastingHorizon(y_test.index, is_relative=False)  "
      ]
    },
    {
      "cell_type": "markdown",
      "metadata": {
        "id": "pfI_u2zSvq5X"
      },
      "source": [
        "# 4. Configuración del algoritmo"
      ]
    },
    {
      "cell_type": "code",
      "execution_count": null,
      "metadata": {
        "id": "CS7d72xtsnrO"
      },
      "outputs": [],
      "source": [
        "def config_algoritmo(algoritmo, estacionalidad = 12, ventana = 12, estrategia = 'mean'):\n",
        "    if algoritmo=='naive': return NaiveForecaster(strategy=estrategia, sp=estacionalidad, window_length=ventana) #strategy=\"drift\" o \"last\"  sp estacionalidad\n",
        "    elif algoritmo=='arima': return AutoARIMA(sp=estacionalidad, suppress_warnings=True) #Cambiar sp para reducir el error\n",
        "    elif algoritmo=='ets': return AutoETS(auto=True,sp=estacionalidad, n_jobs=-1) #sp=12\n",
        "\n",
        "def config_algoritmoReg(algoritmo,ventana = 12, estrategia = 'recursive',estimadores=30, vecinos=11):\n",
        "    if algoritmo=='LinearRegression':\n",
        "        reg=LinearRegression()    \n",
        "    elif algoritmo=='DecisionTreeRegressor': \n",
        "        reg=DecisionTreeRegressor()\n",
        "    elif algoritmo=='KNeighborsRegressor':\n",
        "        reg=KNeighborsRegressor(n_neighbors=vecinos)\n",
        "    elif algoritmo=='RandomForestRegressor':\n",
        "        reg=RandomForestRegressor(n_estimators=estimadores)\n",
        "    return make_reduction(reg,strategy=estrategia, window_length=ventana)"
      ]
    },
    {
      "cell_type": "markdown",
      "metadata": {
        "id": "k7TSsRnwyH30"
      },
      "source": [
        "# 5. Ajuste del Modelo"
      ]
    },
    {
      "cell_type": "code",
      "execution_count": null,
      "metadata": {
        "id": "8ZBPx5EOygx4"
      },
      "outputs": [],
      "source": [
        "def ajuste(predictor, y_train):\n",
        "    return predictor.fit(y_train)"
      ]
    },
    {
      "cell_type": "markdown",
      "metadata": {
        "id": "YH9PfvQYyMFK"
      },
      "source": [
        "# 6. Predicción del Modelo"
      ]
    },
    {
      "cell_type": "code",
      "execution_count": null,
      "metadata": {
        "id": "z5DLr3Aqxe2U"
      },
      "outputs": [],
      "source": [
        "def prediccion(predictor, horiz_prediccion):\n",
        "    return predictor.predict(horiz_prediccion)"
      ]
    },
    {
      "cell_type": "markdown",
      "metadata": {
        "id": "txXDzxqeyUiW"
      },
      "source": [
        "# 7. Evaluación del Modelo"
      ]
    },
    {
      "cell_type": "code",
      "execution_count": null,
      "metadata": {
        "id": "ZL20hhlUxiFO"
      },
      "outputs": [],
      "source": [
        "def evaluacion_modelo(test,pred):\n",
        "    mape = mean_absolute_percentage_error(test, pred, symmetric=False)\n",
        "    smape = mean_absolute_percentage_error(test, pred) #symmetric default=True\n",
        "    mae = mean_absolute_error(test, pred) \n",
        "    rmse = mean_squared_error(test, pred, square_root=True) # square_root=True RMSE , false MSE)\n",
        "    mse = mean_squared_error(test, pred, square_root=False) # square_root=True RMSE , false MSE)\n",
        "    return [mape, smape, mae, rmse, mse]"
      ]
    },
    {
      "cell_type": "markdown",
      "metadata": {
        "id": "YE1aJt203q8-"
      },
      "source": [
        "# MODELOS ESTADÍSTICOS DE FORECASTING (SERIES TEMPORALES)"
      ]
    },
    {
      "cell_type": "code",
      "execution_count": null,
      "metadata": {
        "scrolled": false,
        "id": "WuQO9ufgOfqc"
      },
      "outputs": [],
      "source": [
        "'''cargar archivos con datos de cluster'''\n",
        "cluster = pd.read_csv('https://raw.githubusercontent.com/MandbeZ/TFM_sequia/main/datos/spi_spei/cluster_5.csv',  sep = ',', usecols = {'id', 'cluster', 'nom'})\n",
        "\n",
        "'''-- Declara DF para almacenar los y_pred,\n",
        "      DF para almacenar los datos de la evaluacion'''\n",
        "df_pred = pd.DataFrame()\n",
        "df_eval = pd.DataFrame(index = ['MAPE','SMAPE','MAE','RMSE','MSE'])\n",
        "columnas = []\n",
        "\n",
        "'''Definir el horizonte de la prediccion'''\n",
        "tam_ypred = 12\n",
        "indice='spi'\n",
        "\n",
        "'''Escala representa la escala temporal de SPI y SPEI = 3,6,9,12'''\n",
        "for escala in [3,6,9,12]:\n",
        "        \n",
        "    '''1. Cargar archivo SPI-SPEI'''\n",
        "    cad = indice+str(escala)\n",
        "    datos = cargar_datos('indices_' +cad+ '.csv')\n",
        "\n",
        "    '''2. Procesamiento de datos'''\n",
        "    datos_procesados = procesa_datos(datos)\n",
        "\n",
        "    '''-- Normalizar datos'''\n",
        "    datos_normalizados = normalizar_datos(datos_procesados)\n",
        "    \n",
        "    '''definir los clusters'''\n",
        "    lista_cluster = sorted(cluster['cluster'].unique())\n",
        "    \n",
        "    '''i representa el número de cluster'''\n",
        "    for i in [0,2,3,4]:  # for i in  lista_cluster\n",
        "        print('cluster N°',i)\n",
        "        '''-- Trabajar con un cluster'''\n",
        "        serie = gen_cluster(cluster, i, datos_normalizados)\n",
        "\n",
        "        '''3. Datos de entrenamiento y prueba'''\n",
        "        y_train, y_test = dividir_datos(serie, tamanio = tam_ypred)\n",
        "\n",
        "        '''Definir el horizonte de predicción'''\n",
        "        horizonte_prediccion = horizon_prediccion(y_test)\n",
        "\n",
        "        '''4. Configurar algoritmo, valores ['naive', 'arima', 'ets']'''\n",
        "        predictor = config_algoritmo('arima', estacionalidad = 12, ventana = 48, estrategia = 'mean')\n",
        "\n",
        "        '''5. Ajuste modelo'''\n",
        "        predictor = ajuste(predictor, y_train)\n",
        "\n",
        "        '''6. Predicción'''\n",
        "        y_pred = prediccion(predictor, horizonte_prediccion)\n",
        "\n",
        "        '''7. Evaluación'''\n",
        "        datos_eval = evaluacion_modelo(y_test, y_pred)\n",
        "\n",
        "        '''-- Almacenar todos los y_pred, datos_eval en DFs y nombre de columnas'''\n",
        "        df_pred = pd.concat([df_pred, y_pred.reset_index(drop=True)], axis = 1)\n",
        "        df_eval[indice+str(escala)+'_c'+str(i)] = datos_eval\n",
        "        columnas.append(indice+str(escala)+'_c'+str(i))\n",
        "\n",
        "'''Cambiar el nombre de las columnas'''\n",
        "df_pred.columns = columnas\n",
        "# df_pred.columns = ['predic_'+columna for columna in columnas] # Comentar E/RAM\n",
        "# df_eval.columns = ['eval_'+columna for columna in columnas] # Comentar E/RAM\n"
      ]
    },
    {
      "cell_type": "code",
      "source": [
        "# from google.colab import drive\n",
        "# import pandas as pd\n",
        "# drive.mount('/content/drive', force_remount=True)"
      ],
      "metadata": {
        "id": "6-bM7itO83Ls"
      },
      "execution_count": null,
      "outputs": []
    },
    {
      "cell_type": "code",
      "source": [
        "# df_pred.to_csv('/content/drive/MyDrive/Colab Notebooks/predic_spi_arima_c.csv', index=False)\n",
        "# df_eval.to_csv('/content/drive/MyDrive/Colab Notebooks/eval_spi_arima_c.csv', index=False)"
      ],
      "metadata": {
        "id": "6cZfjcEJo68j"
      },
      "execution_count": null,
      "outputs": []
    },
    {
      "cell_type": "code",
      "execution_count": null,
      "metadata": {
        "colab": {
          "base_uri": "https://localhost:8080/",
          "height": 281
        },
        "id": "tqS2GJMpnIg9",
        "outputId": "f2a06a80-f6e9-44b7-93f1-81841cbb29f3",
        "scrolled": false
      },
      "outputs": [
        {
          "output_type": "display_data",
          "data": {
            "image/png": "[encoded data removed]",
            "text/plain": [
              "<Figure size 432x288 with 1 Axes>"
            ]
          },
          "metadata": {
            "needs_background": "light"
          }
        }
      ],
      "source": [
        "#Gráfica de resultados de los modelos por cluster 0\n",
        "cl = 2\n",
        "serie = gen_cluster(cluster, cl, datos_normalizados)\n",
        "train, test = dividir_datos(serie, tamanio = tam_ypred)\n",
        "\n",
        "pred = df_pred.iloc[:,cl]\n",
        "pred.index = test.index\n",
        "\n",
        "graficar_cluster(train, test, pred, cl, 'Modelo', 0)"
      ]
    },
    {
      "cell_type": "code",
      "execution_count": null,
      "metadata": {
        "id": "66de7bqqtmox"
      },
      "outputs": [],
      "source": [
        "df_pred.plot(subplots=True,figsize=(10,20))"
      ]
    },
    {
      "cell_type": "code",
      "execution_count": null,
      "metadata": {
        "id": "mBP6YAEVCbJh"
      },
      "outputs": [],
      "source": [
        "# def graficar_predicest(predic, clust=[0,1,2,3,4], escala=[3,6,9,12]):\n",
        "predic = df_pred\n",
        "clust=[0,1,2,3,4]\n",
        "escala=[3,6,9,12]\n",
        "print (predic.columns)\n",
        "if 'spi' in predic.columns[0] : s = 'spi'\n",
        "else : s = 'spei'\n",
        "\n",
        "for e in escala:\n",
        "  indice = [ind for ind in predic.columns if s+str(e) in ind]\n",
        "  if not indice: \n",
        "    continue\n",
        "  else:\n",
        "    datos = cargar_datos('indices_'+s+str(e)+'.csv')\n",
        "    p_datos = procesa_datos(datos)\n",
        "    datos_normalizados=normalizar_datos(p_datos)\n",
        "\n",
        "    for c in clust:\n",
        "      cad = s+str(e)+'_c'+str(c)\n",
        "      if (cad not in predic.columns):\n",
        "        continue\n",
        "      else:\n",
        "        estaciones = cluster[cluster['cluster'] == c].reset_index(drop=True)\n",
        "        \n",
        "\n",
        "        for e in range(estaciones.shape[0]):\n",
        "          estacion = [col for col in datos_normalizados.columns if str(estaciones['id'][e]) in col]\n",
        "          serie = datos_normalizados.loc[:,estacion]\n",
        "          train, test = dividir_datos(serie, tamanio = tam_ypred)\n",
        "          pred = df_pred.iloc[:,1]\n",
        "          pred.index = test.index\n",
        "          nom_est = 'Estacion '+str(estaciones.iloc[e,0])+' '+estaciones.iloc[e,1]\n",
        "          nom_clu = 'Cluster ' + str(c) + ' - '\n",
        "\n",
        "          graficar_modelo(train,test,pred,titulo='Modelo Arima '+nom_clu+nom_est,inicio_serie=0)\n",
        "\n"
      ]
    },
    {
      "cell_type": "markdown",
      "source": [
        ""
      ],
      "metadata": {
        "id": "nx7TAyCmQiZL"
      }
    },
    {
      "cell_type": "code",
      "execution_count": null,
      "metadata": {
        "colab": {
          "base_uri": "https://localhost:8080/",
          "height": 206
        },
        "id": "R60q3s1QCbJh",
        "outputId": "d404dbf4-7a4e-4c59-827a-051eeda04027"
      },
      "outputs": [
        {
          "output_type": "execute_result",
          "data": {
            "text/html": [
              "\n",
              "  <div id=\"df-df3037d6-3bdf-427a-9208-cae6b1c4a72a\">\n",
              "    <div class=\"colab-df-container\">\n",
              "      <div>\n",
              "<style scoped>\n",
              "    .dataframe tbody tr th:only-of-type {\n",
              "        vertical-align: middle;\n",
              "    }\n",
              "\n",
              "    .dataframe tbody tr th {\n",
              "        vertical-align: top;\n",
              "    }\n",
              "\n",
              "    .dataframe thead th {\n",
              "        text-align: right;\n",
              "    }\n",
              "</style>\n",
              "<table border=\"1\" class=\"dataframe\">\n",
              "  <thead>\n",
              "    <tr style=\"text-align: right;\">\n",
              "      <th></th>\n",
              "      <th>spi3_c0</th>\n",
              "      <th>spi3_c3</th>\n",
              "      <th>spi3_c4</th>\n",
              "      <th>spi12_c0</th>\n",
              "      <th>spi12_c3</th>\n",
              "      <th>spi12_c4</th>\n",
              "    </tr>\n",
              "  </thead>\n",
              "  <tbody>\n",
              "    <tr>\n",
              "      <th>MAPE</th>\n",
              "      <td>0.220918</td>\n",
              "      <td>0.328147</td>\n",
              "      <td>0.164771</td>\n",
              "      <td>0.399379</td>\n",
              "      <td>0.317091</td>\n",
              "      <td>0.168727</td>\n",
              "    </tr>\n",
              "    <tr>\n",
              "      <th>SMAPE</th>\n",
              "      <td>0.188297</td>\n",
              "      <td>0.252663</td>\n",
              "      <td>0.149851</td>\n",
              "      <td>0.329530</td>\n",
              "      <td>0.267918</td>\n",
              "      <td>0.154347</td>\n",
              "    </tr>\n",
              "    <tr>\n",
              "      <th>MAE</th>\n",
              "      <td>0.085220</td>\n",
              "      <td>0.109915</td>\n",
              "      <td>0.084626</td>\n",
              "      <td>0.190841</td>\n",
              "      <td>0.106689</td>\n",
              "      <td>0.101212</td>\n",
              "    </tr>\n",
              "    <tr>\n",
              "      <th>RMSE</th>\n",
              "      <td>0.109154</td>\n",
              "      <td>0.144735</td>\n",
              "      <td>0.100171</td>\n",
              "      <td>0.195297</td>\n",
              "      <td>0.113500</td>\n",
              "      <td>0.105624</td>\n",
              "    </tr>\n",
              "    <tr>\n",
              "      <th>MSE</th>\n",
              "      <td>0.011915</td>\n",
              "      <td>0.020948</td>\n",
              "      <td>0.010034</td>\n",
              "      <td>0.038141</td>\n",
              "      <td>0.012882</td>\n",
              "      <td>0.011156</td>\n",
              "    </tr>\n",
              "  </tbody>\n",
              "</table>\n",
              "</div>\n",
              "      <button class=\"colab-df-convert\" onclick=\"convertToInteractive('df-df3037d6-3bdf-427a-9208-cae6b1c4a72a')\"\n",
              "              title=\"Convert this dataframe to an interactive table.\"\n",
              "              style=\"display:none;\">\n",
              "        \n",
              "  <svg xmlns=\"http://www.w3.org/2000/svg\" height=\"24px\"viewBox=\"0 0 24 24\"\n",
              "       width=\"24px\">\n",
              "    <path d=\"M0 0h24v24H0V0z\" fill=\"none\"/>\n",
              "    <path d=\"M18.56 5.44l.94 2.06.94-2.06 2.06-.94-2.06-.94-.94-2.06-.94 2.06-2.06.94zm-11 1L8.5 8.5l.94-2.06 2.06-.94-2.06-.94L8.5 2.5l-.94 2.06-2.06.94zm10 10l.94 2.06.94-2.06 2.06-.94-2.06-.94-.94-2.06-.94 2.06-2.06.94z\"/><path d=\"M17.41 7.96l-1.37-1.37c-.4-.4-.92-.59-1.43-.59-.52 0-1.04.2-1.43.59L10.3 9.45l-7.72 7.72c-.78.78-.78 2.05 0 2.83L4 21.41c.39.39.9.59 1.41.59.51 0 1.02-.2 1.41-.59l7.78-7.78 2.81-2.81c.8-.78.8-2.07 0-2.86zM5.41 20L4 18.59l7.72-7.72 1.47 1.35L5.41 20z\"/>\n",
              "  </svg>\n",
              "      </button>\n",
              "      \n",
              "  <style>\n",
              "    .colab-df-container {\n",
              "      display:flex;\n",
              "      flex-wrap:wrap;\n",
              "      gap: 12px;\n",
              "    }\n",
              "\n",
              "    .colab-df-convert {\n",
              "      background-color: #E8F0FE;\n",
              "      border: none;\n",
              "      border-radius: 50%;\n",
              "      cursor: pointer;\n",
              "      display: none;\n",
              "      fill: #1967D2;\n",
              "      height: 32px;\n",
              "      padding: 0 0 0 0;\n",
              "      width: 32px;\n",
              "    }\n",
              "\n",
              "    .colab-df-convert:hover {\n",
              "      background-color: #E2EBFA;\n",
              "      box-shadow: 0px 1px 2px rgba(60, 64, 67, 0.3), 0px 1px 3px 1px rgba(60, 64, 67, 0.15);\n",
              "      fill: #174EA6;\n",
              "    }\n",
              "\n",
              "    [theme=dark] .colab-df-convert {\n",
              "      background-color: #3B4455;\n",
              "      fill: #D2E3FC;\n",
              "    }\n",
              "\n",
              "    [theme=dark] .colab-df-convert:hover {\n",
              "      background-color: #434B5C;\n",
              "      box-shadow: 0px 1px 3px 1px rgba(0, 0, 0, 0.15);\n",
              "      filter: drop-shadow(0px 1px 2px rgba(0, 0, 0, 0.3));\n",
              "      fill: #FFFFFF;\n",
              "    }\n",
              "  </style>\n",
              "\n",
              "      <script>\n",
              "        const buttonEl =\n",
              "          document.querySelector('#df-df3037d6-3bdf-427a-9208-cae6b1c4a72a button.colab-df-convert');\n",
              "        buttonEl.style.display =\n",
              "          google.colab.kernel.accessAllowed ? 'block' : 'none';\n",
              "\n",
              "        async function convertToInteractive(key) {\n",
              "          const element = document.querySelector('#df-df3037d6-3bdf-427a-9208-cae6b1c4a72a');\n",
              "          const dataTable =\n",
              "            await google.colab.kernel.invokeFunction('convertToInteractive',\n",
              "                                                     [key], {});\n",
              "          if (!dataTable) return;\n",
              "\n",
              "          const docLinkHtml = 'Like what you see? Visit the ' +\n",
              "            '<a target=\"_blank\" href=https://colab.research.google.com/notebooks/data_table.ipynb>data table notebook</a>'\n",
              "            + ' to learn more about interactive tables.';\n",
              "          element.innerHTML = '';\n",
              "          dataTable['output_type'] = 'display_data';\n",
              "          await google.colab.output.renderOutput(dataTable, element);\n",
              "          const docLink = document.createElement('div');\n",
              "          docLink.innerHTML = docLinkHtml;\n",
              "          element.appendChild(docLink);\n",
              "        }\n",
              "      </script>\n",
              "    </div>\n",
              "  </div>\n",
              "  "
            ],
            "text/plain": [
              "        spi3_c0   spi3_c3   spi3_c4  spi12_c0  spi12_c3  spi12_c4\n",
              "MAPE   0.220918  0.328147  0.164771  0.399379  0.317091  0.168727\n",
              "SMAPE  0.188297  0.252663  0.149851  0.329530  0.267918  0.154347\n",
              "MAE    0.085220  0.109915  0.084626  0.190841  0.106689  0.101212\n",
              "RMSE   0.109154  0.144735  0.100171  0.195297  0.113500  0.105624\n",
              "MSE    0.011915  0.020948  0.010034  0.038141  0.012882  0.011156"
            ]
          },
          "metadata": {},
          "execution_count": 35
        }
      ],
      "source": [
        "#Evaluación de los resultados del Modelo ARIMA para SPI\n",
        "df_pred"
      ]
    },
    {
      "cell_type": "code",
      "source": [
        "#Evaluación de los resultados del Modelo ARIMA para SPEI\n",
        "df_eval"
      ],
      "metadata": {
        "colab": {
          "base_uri": "https://localhost:8080/",
          "height": 206
        },
        "id": "XJGf9NNRK3e-",
        "outputId": "0a48883b-10ac-46e7-cbe5-dceafe85edac"
      },
      "execution_count": null,
      "outputs": [
        {
          "output_type": "execute_result",
          "data": {
            "text/html": [
              "\n",
              "  <div id=\"df-11ab52e7-eddd-4914-91e0-07e1cfd4b63a\">\n",
              "    <div class=\"colab-df-container\">\n",
              "      <div>\n",
              "<style scoped>\n",
              "    .dataframe tbody tr th:only-of-type {\n",
              "        vertical-align: middle;\n",
              "    }\n",
              "\n",
              "    .dataframe tbody tr th {\n",
              "        vertical-align: top;\n",
              "    }\n",
              "\n",
              "    .dataframe thead th {\n",
              "        text-align: right;\n",
              "    }\n",
              "</style>\n",
              "<table border=\"1\" class=\"dataframe\">\n",
              "  <thead>\n",
              "    <tr style=\"text-align: right;\">\n",
              "      <th></th>\n",
              "      <th>30</th>\n",
              "      <th>32</th>\n",
              "      <th>33</th>\n",
              "      <th>34</th>\n",
              "      <th>60</th>\n",
              "      <th>62</th>\n",
              "      <th>63</th>\n",
              "      <th>64</th>\n",
              "      <th>90</th>\n",
              "      <th>92</th>\n",
              "      <th>93</th>\n",
              "      <th>94</th>\n",
              "      <th>120</th>\n",
              "      <th>122</th>\n",
              "      <th>123</th>\n",
              "      <th>124</th>\n",
              "    </tr>\n",
              "  </thead>\n",
              "  <tbody>\n",
              "    <tr>\n",
              "      <th>MAPE</th>\n",
              "      <td>0.117712</td>\n",
              "      <td>0.118865</td>\n",
              "      <td>0.249260</td>\n",
              "      <td>0.132724</td>\n",
              "      <td>0.202979</td>\n",
              "      <td>0.133867</td>\n",
              "      <td>0.277189</td>\n",
              "      <td>0.108194</td>\n",
              "      <td>0.181222</td>\n",
              "      <td>0.202422</td>\n",
              "      <td>0.494896</td>\n",
              "      <td>0.151625</td>\n",
              "      <td>0.170001</td>\n",
              "      <td>0.154821</td>\n",
              "      <td>0.369437</td>\n",
              "      <td>0.133713</td>\n",
              "    </tr>\n",
              "    <tr>\n",
              "      <th>SMAPE</th>\n",
              "      <td>0.101833</td>\n",
              "      <td>0.120333</td>\n",
              "      <td>0.202897</td>\n",
              "      <td>0.140091</td>\n",
              "      <td>0.178024</td>\n",
              "      <td>0.124098</td>\n",
              "      <td>0.230964</td>\n",
              "      <td>0.112557</td>\n",
              "      <td>0.163313</td>\n",
              "      <td>0.179760</td>\n",
              "      <td>0.385860</td>\n",
              "      <td>0.138459</td>\n",
              "      <td>0.155601</td>\n",
              "      <td>0.143509</td>\n",
              "      <td>0.308723</td>\n",
              "      <td>0.125002</td>\n",
              "    </tr>\n",
              "    <tr>\n",
              "      <th>MAE</th>\n",
              "      <td>0.043378</td>\n",
              "      <td>0.061236</td>\n",
              "      <td>0.079453</td>\n",
              "      <td>0.076154</td>\n",
              "      <td>0.074187</td>\n",
              "      <td>0.060823</td>\n",
              "      <td>0.086504</td>\n",
              "      <td>0.059445</td>\n",
              "      <td>0.078461</td>\n",
              "      <td>0.101179</td>\n",
              "      <td>0.155972</td>\n",
              "      <td>0.083643</td>\n",
              "      <td>0.082387</td>\n",
              "      <td>0.084223</td>\n",
              "      <td>0.126176</td>\n",
              "      <td>0.080897</td>\n",
              "    </tr>\n",
              "    <tr>\n",
              "      <th>RMSE</th>\n",
              "      <td>0.068539</td>\n",
              "      <td>0.077980</td>\n",
              "      <td>0.103938</td>\n",
              "      <td>0.091977</td>\n",
              "      <td>0.086070</td>\n",
              "      <td>0.072933</td>\n",
              "      <td>0.100773</td>\n",
              "      <td>0.076981</td>\n",
              "      <td>0.089610</td>\n",
              "      <td>0.112205</td>\n",
              "      <td>0.164018</td>\n",
              "      <td>0.090961</td>\n",
              "      <td>0.086074</td>\n",
              "      <td>0.084856</td>\n",
              "      <td>0.128678</td>\n",
              "      <td>0.082551</td>\n",
              "    </tr>\n",
              "    <tr>\n",
              "      <th>MSE</th>\n",
              "      <td>0.004698</td>\n",
              "      <td>0.006081</td>\n",
              "      <td>0.010803</td>\n",
              "      <td>0.008460</td>\n",
              "      <td>0.007408</td>\n",
              "      <td>0.005319</td>\n",
              "      <td>0.010155</td>\n",
              "      <td>0.005926</td>\n",
              "      <td>0.008030</td>\n",
              "      <td>0.012590</td>\n",
              "      <td>0.026902</td>\n",
              "      <td>0.008274</td>\n",
              "      <td>0.007409</td>\n",
              "      <td>0.007201</td>\n",
              "      <td>0.016558</td>\n",
              "      <td>0.006815</td>\n",
              "    </tr>\n",
              "  </tbody>\n",
              "</table>\n",
              "</div>\n",
              "      <button class=\"colab-df-convert\" onclick=\"convertToInteractive('df-11ab52e7-eddd-4914-91e0-07e1cfd4b63a')\"\n",
              "              title=\"Convert this dataframe to an interactive table.\"\n",
              "              style=\"display:none;\">\n",
              "        \n",
              "  <svg xmlns=\"http://www.w3.org/2000/svg\" height=\"24px\"viewBox=\"0 0 24 24\"\n",
              "       width=\"24px\">\n",
              "    <path d=\"M0 0h24v24H0V0z\" fill=\"none\"/>\n",
              "    <path d=\"M18.56 5.44l.94 2.06.94-2.06 2.06-.94-2.06-.94-.94-2.06-.94 2.06-2.06.94zm-11 1L8.5 8.5l.94-2.06 2.06-.94-2.06-.94L8.5 2.5l-.94 2.06-2.06.94zm10 10l.94 2.06.94-2.06 2.06-.94-2.06-.94-.94-2.06-.94 2.06-2.06.94z\"/><path d=\"M17.41 7.96l-1.37-1.37c-.4-.4-.92-.59-1.43-.59-.52 0-1.04.2-1.43.59L10.3 9.45l-7.72 7.72c-.78.78-.78 2.05 0 2.83L4 21.41c.39.39.9.59 1.41.59.51 0 1.02-.2 1.41-.59l7.78-7.78 2.81-2.81c.8-.78.8-2.07 0-2.86zM5.41 20L4 18.59l7.72-7.72 1.47 1.35L5.41 20z\"/>\n",
              "  </svg>\n",
              "      </button>\n",
              "      \n",
              "  <style>\n",
              "    .colab-df-container {\n",
              "      display:flex;\n",
              "      flex-wrap:wrap;\n",
              "      gap: 12px;\n",
              "    }\n",
              "\n",
              "    .colab-df-convert {\n",
              "      background-color: #E8F0FE;\n",
              "      border: none;\n",
              "      border-radius: 50%;\n",
              "      cursor: pointer;\n",
              "      display: none;\n",
              "      fill: #1967D2;\n",
              "      height: 32px;\n",
              "      padding: 0 0 0 0;\n",
              "      width: 32px;\n",
              "    }\n",
              "\n",
              "    .colab-df-convert:hover {\n",
              "      background-color: #E2EBFA;\n",
              "      box-shadow: 0px 1px 2px rgba(60, 64, 67, 0.3), 0px 1px 3px 1px rgba(60, 64, 67, 0.15);\n",
              "      fill: #174EA6;\n",
              "    }\n",
              "\n",
              "    [theme=dark] .colab-df-convert {\n",
              "      background-color: #3B4455;\n",
              "      fill: #D2E3FC;\n",
              "    }\n",
              "\n",
              "    [theme=dark] .colab-df-convert:hover {\n",
              "      background-color: #434B5C;\n",
              "      box-shadow: 0px 1px 3px 1px rgba(0, 0, 0, 0.15);\n",
              "      filter: drop-shadow(0px 1px 2px rgba(0, 0, 0, 0.3));\n",
              "      fill: #FFFFFF;\n",
              "    }\n",
              "  </style>\n",
              "\n",
              "      <script>\n",
              "        const buttonEl =\n",
              "          document.querySelector('#df-11ab52e7-eddd-4914-91e0-07e1cfd4b63a button.colab-df-convert');\n",
              "        buttonEl.style.display =\n",
              "          google.colab.kernel.accessAllowed ? 'block' : 'none';\n",
              "\n",
              "        async function convertToInteractive(key) {\n",
              "          const element = document.querySelector('#df-11ab52e7-eddd-4914-91e0-07e1cfd4b63a');\n",
              "          const dataTable =\n",
              "            await google.colab.kernel.invokeFunction('convertToInteractive',\n",
              "                                                     [key], {});\n",
              "          if (!dataTable) return;\n",
              "\n",
              "          const docLinkHtml = 'Like what you see? Visit the ' +\n",
              "            '<a target=\"_blank\" href=https://colab.research.google.com/notebooks/data_table.ipynb>data table notebook</a>'\n",
              "            + ' to learn more about interactive tables.';\n",
              "          element.innerHTML = '';\n",
              "          dataTable['output_type'] = 'display_data';\n",
              "          await google.colab.output.renderOutput(dataTable, element);\n",
              "          const docLink = document.createElement('div');\n",
              "          docLink.innerHTML = docLinkHtml;\n",
              "          element.appendChild(docLink);\n",
              "        }\n",
              "      </script>\n",
              "    </div>\n",
              "  </div>\n",
              "  "
            ],
            "text/plain": [
              "             30        32        33  ...       122       123       124\n",
              "MAPE   0.117712  0.118865  0.249260  ...  0.154821  0.369437  0.133713\n",
              "SMAPE  0.101833  0.120333  0.202897  ...  0.143509  0.308723  0.125002\n",
              "MAE    0.043378  0.061236  0.079453  ...  0.084223  0.126176  0.080897\n",
              "RMSE   0.068539  0.077980  0.103938  ...  0.084856  0.128678  0.082551\n",
              "MSE    0.004698  0.006081  0.010803  ...  0.007201  0.016558  0.006815\n",
              "\n",
              "[5 rows x 16 columns]"
            ]
          },
          "metadata": {},
          "execution_count": 29
        }
      ]
    },
    {
      "cell_type": "markdown",
      "metadata": {
        "id": "AEtL5SNM0afD"
      },
      "source": [
        "# ALGORITMOS DE REGRESIÓN DE APRENDIZAJE AUTOMÁTICO"
      ]
    },
    {
      "cell_type": "code",
      "execution_count": null,
      "metadata": {
        "id": "Abda0hD-8AgY"
      },
      "outputs": [],
      "source": [
        "cluster = pd.read_csv('https://raw.githubusercontent.com/MandbeZ/TFM_sequia/main/datos/spi_spei/cluster_5.csv',  sep = ',', usecols = {'id', 'cluster'})\n",
        "\n",
        "'''-- Declara DF para almacenar los y_pred,\n",
        "      DF para almacenar los datos de la evaluacion'''\n",
        "df_pred = pd.DataFrame()\n",
        "df_eval = pd.DataFrame(index = ['MAPE','SMAPE','MAE','RMSE','MSE'])\n",
        "columnas = []\n",
        "\n",
        "'''Definir el horizonte de la prediccion'''\n",
        "tam_ypred = 12\n",
        "\n",
        "for escala in [3,6,9,12]:\n",
        "        \n",
        "    '''1. Cargar archivo'''\n",
        "    cad = 'spi'+str(escala)\n",
        "    datos = cargar_datos('indices_' +cad+ '.csv')\n",
        "\n",
        "    '''2. Procesamiento de datos'''\n",
        "    datos_procesados = procesa_datos(datos)\n",
        "\n",
        "    '''-- Normalizar datos'''\n",
        "    datos_normalizados = normalizar_datos(datos_procesados)    \n",
        "    \n",
        "    '''definir los clusters'''\n",
        "    lista_cluster = sorted(cluster['cluster'].unique())\n",
        "    for i in lista_cluster:\n",
        "\n",
        "        '''-- Trabajar con un cluster'''\n",
        "        serie = gen_cluster(cluster, i, datos_normalizados)\n",
        "\n",
        "        '''3. Datos de entrenamiento y prueba'''\n",
        "        y_train, y_test = dividir_datos(serie, tamanio = tam_ypred)\n",
        "\n",
        "        '''Definir el horizonte de predicción'''\n",
        "        horizonte_prediccion = horizon_prediccion(y_test)\n",
        "\n",
        "        '''4. Configurar algoritmo de regresión, valores ['LinearRegression', 'DecisionTreeRegressor','RandomForestRegressor', 'KNeighborsRegressor']'''\n",
        "        predictor = config_algoritmoReg('RandomForestRegressor',  ventana = 48, estrategia = 'recursive',estimadores=30, vecinos=11)\n",
        "\n",
        "        '''5. Ajuste modelo'''\n",
        "        predictor = ajuste(predictor, y_train)\n",
        "\n",
        "        '''6. Predicción'''\n",
        "        y_pred = prediccion(predictor, horizonte_prediccion)\n",
        "\n",
        "        '''7. Evaluación'''\n",
        "        datos_eval = evaluacion_modelo(y_test, y_pred)\n",
        "\n",
        "        '''-- Almacenar todos los y_pred, datos_eval en DFs y nombre de columnas'''\n",
        "        df_pred = pd.concat([df_pred, y_pred.reset_index(drop=True)], axis = 1)\n",
        "        df_eval[str(escala)+str(i)] = datos_eval\n",
        "        columnas.append(cad+'_clus'+str(i))\n",
        "        \n",
        "'''Cambiar el nombre de las columnas'''\n",
        "df_pred.columns = ['predic_'+columna for columna in columnas]\n",
        "df_eval.columns = ['eval_'+columna for columna in columnas]\n",
        "\n"
      ]
    },
    {
      "cell_type": "code",
      "source": [
        "df_pred.to_csv('/drive/MyDrive/Colab Notebooks/pred_spi_rf_c.csv', index=False)\n",
        "df_eval.to_csv('/drive/MyDrive/Colab Notebooks/eval_spi_rf_c.csv', index=False)"
      ],
      "metadata": {
        "id": "H_MUtuhZFavY"
      },
      "execution_count": null,
      "outputs": []
    },
    {
      "cell_type": "code",
      "execution_count": null,
      "metadata": {
        "id": "x3ZqI5I-AVpA",
        "scrolled": false
      },
      "outputs": [],
      "source": [
        "# c indica el cluster de 0 a n para los n cluster\n",
        "c = 2\n",
        "# estacion indica la estacion de 0 a m para las m estaciones dentro del cluster \"c\"\n",
        "estac = 0\n",
        "estaciones = cluster[cluster['cluster'] == c].reset_index(drop=True)\n",
        "estacion = [col for col in datos_normalizados.columns if str(estaciones['id'][estac]) in col]\n",
        "serie = datos_normalizados.loc[:,estacion]\n",
        "train, test = dividir_datos(serie, tamanio = tam_ypred)\n",
        "pred = df_pred.iloc[:,0]\n",
        "pred.index = test.index\n",
        "\n",
        "graficar_modelo(train,test,pred,titulo='Modelo',inicio_serie=0)\n",
        "graficar_modelo(train,test,pred,titulo='Modelo',inicio_serie=400)"
      ]
    }
  ],
  "metadata": {
    "colab": {
      "collapsed_sections": [],
      "name": "4.1.Modelos_Estadísticos_ML__SPI_SPEI(Por_cluster).ipynb",
      "provenance": [],
      "include_colab_link": true
    },
    "kernelspec": {
      "display_name": "Python 3 (ipykernel)",
      "language": "python",
      "name": "python3"
    },
    "language_info": {
      "codemirror_mode": {
        "name": "ipython",
        "version": 3
      },
      "file_extension": ".py",
      "mimetype": "text/x-python",
      "name": "python",
      "nbconvert_exporter": "python",
      "pygments_lexer": "ipython3",
      "version": "3.10.2"
    }
  },
  "nbformat": 4,
  "nbformat_minor": 0
}