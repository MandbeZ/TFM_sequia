{
 "cells": [
  {
   "cell_type": "markdown",
   "id": "399c45cd",
   "metadata": {},
   "source": [
    "# Convertir los datos diarios de la carpeta POR_VARIABLE a mensuales"
   ]
  },
  {
   "cell_type": "code",
   "execution_count": 1,
   "id": "68eb1efb",
   "metadata": {},
   "outputs": [],
   "source": [
    "import pandas as pd\n",
    "import numpy as np\n",
    "import os"
   ]
  },
  {
   "cell_type": "code",
   "execution_count": 2,
   "id": "ce80cd27",
   "metadata": {},
   "outputs": [],
   "source": [
    "'''rango de fechas'''\n",
    "fecha_inicio = '1981-01-01'\n",
    "fecha_fin = '2020-12-31'\n",
    "\n",
    "'''leer los archivos en un carpeta dada SI son archivos CSV'''\n",
    "def leer_dir(path):\n",
    "    with os.scandir(path) as ficheros:\n",
    "        ficheros = [fichero.name for fichero in ficheros if fichero.is_file() \n",
    "                    and fichero.name.endswith('.csv') \n",
    "                    and fichero.name.count('diario')>0]\n",
    "    ficheros.sort()\n",
    "    return ficheros\n",
    "\n",
    "def leer_csv(file, path = '../datos/por_variables/'):\n",
    "    p = path+file\n",
    "    data = pd.read_csv(p)\n",
    "    if 'Unnamed: 0' in data.columns:\n",
    "        data.rename(columns={'Unnamed: 0':'fecha'}, inplace = True)\n",
    "    return data  \n",
    "\n",
    "'''convertir cadena a formato fecha'''\n",
    "def conv_fecha(data, fec = 'fecha'):\n",
    "    data[fec] = pd.to_datetime(data[fec])\n",
    "    return data\n",
    "\n",
    "def rango_fecha(data):\n",
    "    data = data[(data['fecha'] >= fecha_inicio) & (data['fecha'] <= fecha_fin)]\n",
    "    data.reset_index(drop = True, inplace = True)\n",
    "    return data\n",
    "\n",
    "'''convertir a DF mensual con la suma'''\n",
    "def conv_mensual_suma(data):\n",
    "    data = conv_fecha(data)\n",
    "    data = rango_fecha(data)\n",
    "    '''el pararmetro <min_count=1> mantiene los valores NaN'''\n",
    "    data = data.groupby(pd.Grouper(key = 'fecha', freq = 'MS')).sum(min_count=1).reset_index()\n",
    "    return data\n",
    "\n",
    "'''convertir a DF mensual con el promedio'''\n",
    "def conv_mensual_media(data):\n",
    "    data = conv_fecha(data)\n",
    "    data = rango_fecha(data)\n",
    "    data = data.groupby(pd.Grouper(key = 'fecha', freq = 'MS')).mean().reset_index()\n",
    "    return data\n",
    "\n",
    "def guardar(data, nombre, path = '../datos/por_variables/'):\n",
    "    p = path + nombre\n",
    "    data.to_csv(p, index=False)"
   ]
  },
  {
   "cell_type": "code",
   "execution_count": 3,
   "id": "8a5064f3",
   "metadata": {},
   "outputs": [
    {
     "data": {
      "text/plain": [
       "['chirps_diario_pp.csv',\n",
       " 'gmet_diario_pp.csv',\n",
       " 'gmet_diario_tmed.csv',\n",
       " 'nasa_diario_hmed.csv',\n",
       " 'nasa_diario_pp.csv',\n",
       " 'nasa_diario_tmax.csv',\n",
       " 'nasa_diario_tmed.csv',\n",
       " 'nasa_diario_tmin.csv',\n",
       " 'obs_diario_hmax.csv',\n",
       " 'obs_diario_hmed.csv',\n",
       " 'obs_diario_hmin.csv',\n",
       " 'obs_diario_pp.csv',\n",
       " 'obs_diario_tmax.csv',\n",
       " 'obs_diario_tmed.csv',\n",
       " 'obs_diario_tmin.csv']"
      ]
     },
     "execution_count": 3,
     "metadata": {},
     "output_type": "execute_result"
    }
   ],
   "source": [
    "'''leer archivos CSV del directorio'''\n",
    "lista_arch = leer_dir('../datos/por_variables/')\n",
    "lista_arch"
   ]
  },
  {
   "cell_type": "code",
   "execution_count": 4,
   "id": "5bd4600f",
   "metadata": {},
   "outputs": [],
   "source": [
    "for archivo in lista_arch:\n",
    "    df_estacion = leer_csv(archivo)\n",
    "    if archivo.count('pp') > 0:\n",
    "        dfres = conv_mensual_suma(df_estacion)\n",
    "    else:\n",
    "        dfres = conv_mensual_media(df_estacion)\n",
    "    archivo = archivo.replace('diario','mensual')\n",
    "    guardar(dfres, archivo)\n"
   ]
  },
  {
   "cell_type": "code",
   "execution_count": null,
   "id": "b54bb0ab",
   "metadata": {},
   "outputs": [],
   "source": []
  }
 ],
 "metadata": {
  "kernelspec": {
   "display_name": "Python 3 (ipykernel)",
   "language": "python",
   "name": "python3"
  },
  "language_info": {
   "codemirror_mode": {
    "name": "ipython",
    "version": 3
   },
   "file_extension": ".py",
   "mimetype": "text/x-python",
   "name": "python",
   "nbconvert_exporter": "python",
   "pygments_lexer": "ipython3",
   "version": "3.9.8"
  }
 },
 "nbformat": 4,
 "nbformat_minor": 5
}
