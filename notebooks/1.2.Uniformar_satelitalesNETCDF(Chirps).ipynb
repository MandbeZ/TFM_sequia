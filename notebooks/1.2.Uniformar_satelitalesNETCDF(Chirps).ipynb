{
 "cells": [
  {
   "cell_type": "markdown",
   "id": "142ee584",
   "metadata": {},
   "source": [
    "# Uniformar los datos satelitales de CHIRPS - diarios por estación"
   ]
  },
  {
   "cell_type": "code",
   "execution_count": 1,
   "id": "e845857d",
   "metadata": {},
   "outputs": [],
   "source": [
    "from netCDF4 import Dataset\n",
    "import numpy as np\n",
    "import pandas as pd\n",
    "from datetime import datetime, timedelta\n",
    "import time"
   ]
  },
  {
   "cell_type": "code",
   "execution_count": 2,
   "id": "988581dc",
   "metadata": {},
   "outputs": [],
   "source": [
    "from warnings import simplefilter\n",
    "simplefilter(action=\"ignore\", category=RuntimeWarning)\n",
    "simplefilter(action=\"ignore\", category=FutureWarning)"
   ]
  },
  {
   "cell_type": "code",
   "execution_count": 3,
   "id": "3f1863b0",
   "metadata": {},
   "outputs": [],
   "source": [
    "'''Definir periodo de análisis: fecha de inicio y fin. \n",
    "   Comprendido entre [1981-01-01, 2021-11-30]'''\n",
    "fecha_inicio = '1981-01-01'\n",
    "fecha_fin = '2020-12-31'\n",
    "\n",
    "'''devuelve los datos de una variable'''\n",
    "def variable_dato(data, var):\n",
    "    v = data.variables[var][:]\n",
    "    return v\n",
    "\n",
    "def creardiario(cad):\n",
    "    anio = cad[2].split('.')\n",
    "    md_i = '-01-01'\n",
    "    if anio[0] == '2021':\n",
    "        md_f = '-11-30'\n",
    "    else:\n",
    "        md_f = '-12-31'\n",
    "    d1 = anio[0]+md_i\n",
    "    d2 = anio[0]+md_f\n",
    "    data = creardf(d1, d2, 'D')\n",
    "    return data\n",
    "\n",
    "'''crear un DF vacío en un rango de fechas'''\n",
    "def creardf(f_ini = '1981-01-01', f_fin = '2021-11-30', fr = \"MS\"):\n",
    "    dat = pd.DataFrame(index = rango_fecha(f_ini, f_fin, fr))\n",
    "    return dat\n",
    "\n",
    "'''devuelve un rango de fechas mensual (default: <1981/01/01 - 2021/11/01, mensual>)'''\n",
    "def rango_fecha(f_ini = '1981-01-01', f_fin = '2021-11-30', f = 'MS'):\n",
    "    f_rango = pd.date_range(start=f_ini, end=f_fin, freq=f)\n",
    "    return f_rango.date\n",
    "\n",
    "'''guarda un archivo <data> con un nombre <nom>'''\n",
    "def guardar(data, nom, path='../datos/1.0.variables/'):\n",
    "    pth = path + nom\n",
    "    data.to_csv(pth, index = False)"
   ]
  },
  {
   "cell_type": "markdown",
   "id": "a6e66313",
   "metadata": {},
   "source": [
    "## Datos diarios a partir de archivos anuales con mediciones diarias"
   ]
  },
  {
   "cell_type": "code",
   "execution_count": 4,
   "id": "7f41c70b",
   "metadata": {},
   "outputs": [],
   "source": [
    "'''Leer archivo con las estaciones y coordenadas de referencia\n",
    "   y el archivo con los nombres de los archivos diarios'''\n",
    "est_cols = ['id','lon','lat','altitud','estacion']\n",
    "dflista = pd.read_csv(r'../datos/1.0.Estaciones/estaciones_senamhi_generado.csv', usecols=est_cols)[est_cols]\n",
    "dfanio = pd.read_csv(r'../datos/1.2.formato4_chirps/datos_anio.csv', header =None)"
   ]
  },
  {
   "cell_type": "code",
   "execution_count": 5,
   "id": "753b73a9",
   "metadata": {
    "scrolled": false
   },
   "outputs": [],
   "source": [
    "pp_diario = pd.DataFrame()\n",
    "\n",
    "for anio in range(dfanio.shape[0]):\n",
    "    nom_col = []\n",
    "    diario = creardiario(dfanio.loc[anio,0].split('_'))\n",
    "    dfpp = diario\n",
    "    diario = diario.reindex(columns = ['precipitacion','lon_o','lat_o','lon_n','lat_n','estacion']) \n",
    "    p = r'../datos/1.2.formato4_chirps/' + dfanio.loc[anio,0]\n",
    "    data = Dataset(p)\n",
    "    lat = variable_dato(data,'latitude')\n",
    "    lon = variable_dato(data,'longitude')\n",
    "    time = variable_dato(data,'time')\n",
    "    pp = variable_dato(data,'precip')\n",
    "    for i in range(dflista.shape[0]):\n",
    "        sq_dif_lat = (lat - dflista.iloc[i,2])**2\n",
    "        sq_dif_lon = (lon - dflista.iloc[i,1])**2\n",
    "        min_index_lat=sq_dif_lat.argmin()\n",
    "        min_index_lon=sq_dif_lon.argmin()\n",
    "        dt = np.arange(0,data.variables['time'].size)  \n",
    "        for time_index in dt:\n",
    "            diario.iloc[time_index,1] = dflista.iloc[i,1]\n",
    "            diario.iloc[time_index,2] = dflista.iloc[i,2]\n",
    "            diario.iloc[time_index,0] = (pp[time_index,min_index_lat,min_index_lon])\n",
    "            diario.iloc[time_index,3] = lon[min_index_lon]\n",
    "            diario.iloc[time_index,4] = lat[min_index_lat]\n",
    "            diario.iloc[time_index,5] = dflista.iloc[i,4]\n",
    "        nombre = '../datos/1.0.formato_csv_corregido/chirps_'+dflista.iloc[i,0].astype(str)+'_'+dflista.iloc[i,4]+'.csv'\n",
    "        diario['precipitacion']=diario['precipitacion'].astype(float)\n",
    "        diario['precipitacion']=diario['precipitacion'].round(3)\n",
    "        if anio == 0:\n",
    "            diario.to_csv(nombre,header=False )\n",
    "        else:\n",
    "            station = pd.read_csv(nombre, header=None, names=['precipitacion','lon_o','lat_o','lon_n','lat_n','estacion'])\n",
    "            station = pd.concat ([station, diario])\n",
    "            station.to_csv(nombre,header=False )  # Grabar Diarios por etacion\n",
    "        dfpp = pd.concat([dfpp, diario['precipitacion']], axis=1)\n",
    "        nom_col.append(str(dflista.iloc[i,0]))\n",
    "    pp_diario = pd.concat([pp_diario, dfpp], axis=0)\n",
    "\n",
    "pp_diario.columns = nom_col\n",
    "pp_diario = pp_diario.reset_index()\n",
    "pp_diario.rename(columns={'index':'fecha'},inplace=True)\n",
    "pp_diario['fecha'] = pd.to_datetime(pp_diario['fecha'])\n",
    "pp_diario = pp_diario[(pp_diario['fecha'] >= fecha_inicio) & (pp_diario['fecha'] <= fecha_fin)]\n",
    "guardar(pp_diario, 'chirps_diario_pp.csv')\n",
    "\n",
    "for i in range(dflista.shape[0]):\n",
    "    nombre = '../datos/1.0.formato_csv_corregido/chirps_'+dflista.iloc[i,0].astype(str)+'_'+dflista.iloc[i,4]+'.csv'\n",
    "    estacion = pd.read_csv(nombre, header=None, usecols = [i for i in range(2)])\n",
    "    estacion.columns = ['fecha', 'pp']\n",
    "    estacion['fecha'] = pd.to_datetime(estacion['fecha'])\n",
    "    estacion = estacion[(estacion['fecha'] >= fecha_inicio) & (estacion['fecha'] <= fecha_fin)]\n",
    "    estacion.to_csv(nombre, index=False)\n",
    "    "
   ]
  },
  {
   "cell_type": "code",
   "execution_count": 6,
   "id": "2eb3571b",
   "metadata": {},
   "outputs": [
    {
     "name": "stdout",
     "output_type": "stream",
     "text": [
      "       fecha     pp\n",
      "0 1981-01-01  0.000\n",
      "1 1981-01-02  3.296\n",
      "2 1981-01-03  5.145\n",
      "3 1981-01-04  0.000\n",
      "4 1981-01-05  9.486\n"
     ]
    }
   ],
   "source": [
    "'''Datos del dataframe generado'''\n",
    "print(estacion.head(5))"
   ]
  },
  {
   "cell_type": "code",
   "execution_count": null,
   "id": "8b0ad671",
   "metadata": {},
   "outputs": [],
   "source": []
  }
 ],
 "metadata": {
  "kernelspec": {
   "display_name": "Python 3 (ipykernel)",
   "language": "python",
   "name": "python3"
  },
  "language_info": {
   "codemirror_mode": {
    "name": "ipython",
    "version": 3
   },
   "file_extension": ".py",
   "mimetype": "text/x-python",
   "name": "python",
   "nbconvert_exporter": "python",
   "pygments_lexer": "ipython3",
   "version": "3.9.8"
  }
 },
 "nbformat": 4,
 "nbformat_minor": 5
}
