{
 "cells": [
  {
   "cell_type": "code",
   "execution_count": 1,
   "id": "6cd22def",
   "metadata": {},
   "outputs": [],
   "source": [
    "#Instalar paquete SPI - SPEI solo instalar una vez\n",
    "# install.packages(\"SPEI\")\n",
    "# install.packages(\"readr\")"
   ]
  },
  {
   "cell_type": "code",
   "execution_count": 2,
   "id": "b67f6aae",
   "metadata": {},
   "outputs": [
    {
     "name": "stderr",
     "output_type": "stream",
     "text": [
      "Loading required package: lmomco\n",
      "\n",
      "Loading required package: parallel\n",
      "\n",
      "Loading required package: ggplot2\n",
      "\n",
      "# Package SPEI (1.7) loaded [try SPEINews()].\n",
      "\n"
     ]
    }
   ],
   "source": [
    "#Cargar librería SPEI y readr\n",
    "library(SPEI)\n",
    "library(readr)\n"
   ]
  },
  {
   "cell_type": "code",
   "execution_count": 3,
   "id": "8353abf9",
   "metadata": {},
   "outputs": [
    {
     "data": {
      "text/html": [
       "'C:/Users/Angélica Andrade/Dropbox/documentosA/TFM_UNIR_2022/datos/1.0.variables'"
      ],
      "text/latex": [
       "'C:/Users/Angélica Andrade/Dropbox/documentosA/TFM\\_UNIR\\_2022/datos/1.0.variables'"
      ],
      "text/markdown": [
       "'C:/Users/Angélica Andrade/Dropbox/documentosA/TFM_UNIR_2022/datos/1.0.variables'"
      ],
      "text/plain": [
       "[1] \"C:/Users/Angélica Andrade/Dropbox/documentosA/TFM_UNIR_2022/datos/1.0.variables\""
      ]
     },
     "metadata": {},
     "output_type": "display_data"
    }
   ],
   "source": [
    "setwd(\"../datos/1.0.variables\")\n",
    "getwd()"
   ]
  },
  {
   "cell_type": "markdown",
   "id": "ead22ea4",
   "metadata": {},
   "source": [
    "## Funciones para calcular SPI  y SPEI en todas las escalas"
   ]
  },
  {
   "cell_type": "code",
   "execution_count": 4,
   "id": "4ac659bf",
   "metadata": {},
   "outputs": [],
   "source": [
    "spi_escalas <- function(df,escala){\n",
    "  df1 = data.frame()\n",
    "  df1 = cbind(df['fecha'])\n",
    "  spi_es<-spi(df[2:length(df)], scale = escala , distribution = 'Gamma')\n",
    "  vals=spi_es$fitted\n",
    "  df1$spi= vals\n",
    "  return(df1)\n",
    "}\n",
    "\n",
    "# Redondear un dataframe, exluyendo los string\n",
    "redondear <- function(data, digitos) {\n",
    "  numeros <- vapply(data, is.numeric, FUN.VALUE = logical(1))\n",
    "  data[,numeros] <- round(data[,numeros], digits = digitos)\n",
    "  return (data)\n",
    "}\n",
    "\n",
    "guardar_csv <- function(data, directorio){\n",
    "  write.csv(data, file = directorio, row.names = FALSE) # guarda un archivo csv\n",
    "\n",
    "  df <- read.csv(directorio, header = TRUE, sep = \",\", dec = \".\") \n",
    "  colnames(df) <- c(\"fecha\",\"100\",\"101\",\"102\",\"105\",\"106\",\"107\",\"108\",\"111\",\"112\",\"113\",\"114\",\"115\",\"116\",\"117\",\"118\",\"119\",\"120\",\"121\",\"200\",\"201\",\"202\",\"203\",\"204\",\"205\")\n",
    "  write.csv(df, file = directorio, row.names = FALSE) # guarda un archivo csv\n",
    "}\n",
    "\n",
    "\n",
    "# Calcular el SPEI por dos metodos 1:hargreaves, 2:thornthwaite\n",
    "# con: - dfstac: datos de las estaciones\n",
    "#      - escala: escala en meses\n",
    "#      - dfprec: datos de precipitaciones de todas las estaciones \n",
    "#      - dftm: dependiendo del <metodo>, datos de tmax (si metodo:1) y tmed(si metodo:2)\n",
    "#      - dftmin: datos de tmin de todas las estaciones\n",
    "#      - metodo: metodo usado para calcular PET\n",
    "\n",
    "spei_calc <- function(dfstac, escala, dfprec, dftm, dftmin = data.frame(), metodo = 2){\n",
    "    \n",
    "    dfspei <- data.frame(cbind(dfprec['fecha']))\n",
    "    columnas = colnames(dfprec[,2:ncol(dfprec)])\n",
    "\n",
    "    for (est in 1:24){\n",
    "        # Asignar los datos de la estacion \"est\" a una Serie de Tiempo\n",
    "        tspp <- ts(dfprec[est+1], end=c(2020,12), frequency=12)\n",
    "        tstm = ts(dftm[est+1], end=c(2020,12), frequency=12)\n",
    "        \n",
    "        if (metodo == 1){\n",
    "            \n",
    "            tsmn = ts(dftmin[est+1], end=c(2020,12), frequency=12)\n",
    "            \n",
    "            # Calcular PET, por el metodo 1:hargreaves\n",
    "            tspet <- hargreaves(Tmin = tsmn ,Tmax = tstm, lat = dfstac[est,6])\n",
    "        \n",
    "        } else {\n",
    "            \n",
    "            # Calcular PET, por el metodo 2:thornthwaite\n",
    "            tspet <- thornthwaite(Tave = tstm, lat = dfstac[est,6])\n",
    "        }\n",
    "\n",
    "        # Calcular el balance hídrico: pp - PET\n",
    "        tsbh = tspp - tspet\n",
    "\n",
    "        # Calcular el SPEI para una escala \"escala\"\n",
    "        tspei = spei(tsbh, scale = escala , distribution = 'log-Logistic')\n",
    "        \n",
    "        # Generar el nombre de la columna\n",
    "        columna <- paste('', substr(columnas[est], 2, 4), sep = '')\n",
    "        \n",
    "        # Guardar en los valores obtenidos en dfspei\n",
    "        fitted_tspei <- tspei$fitted\n",
    "        dfspei[columna] <- fitted_tspei[,1]\n",
    "        \n",
    "    }\n",
    "    \n",
    "    return (dfspei)\n",
    "}"
   ]
  },
  {
   "cell_type": "markdown",
   "id": "6b534ea0",
   "metadata": {},
   "source": [
    "## Definir  escala: 1, 3, 6, 12"
   ]
  },
  {
   "cell_type": "code",
   "execution_count": 5,
   "id": "8face5ce",
   "metadata": {},
   "outputs": [],
   "source": [
    "escala <- 12"
   ]
  },
  {
   "cell_type": "markdown",
   "id": "03b0f4d6",
   "metadata": {},
   "source": [
    "# SPI - Cálculo"
   ]
  },
  {
   "cell_type": "code",
   "execution_count": 6,
   "id": "06ba3023",
   "metadata": {
    "scrolled": true
   },
   "outputs": [],
   "source": [
    "# Cargar Dataframe de precipitación de todas las estaciones \n",
    "df <- read.csv(\"chirps_mensual_pp_bc.csv\", header = TRUE, sep = \",\", dec = \".\") \n",
    "\n",
    "# Calcular SPI\n",
    "res = spi_escalas(df,escala)\n",
    "\n",
    "# Redondear valores y Guardar SPI\n",
    "nombrespi = paste(\"../3.0.spi_spei/indices_spi\",escala,\".csv\",sep=\"\")\n",
    "guardar_csv(redondear(res,3), nombrespi)"
   ]
  },
  {
   "cell_type": "markdown",
   "id": "e9820e61",
   "metadata": {},
   "source": [
    "# SPEI - Cálculo"
   ]
  },
  {
   "cell_type": "code",
   "execution_count": 7,
   "id": "9f20b503",
   "metadata": {},
   "outputs": [],
   "source": [
    "# Cargar Dataframes \n",
    "precip<-read.csv(\"chirps_mensual_pp_bc.csv\", header = TRUE, sep = \",\", dec = \".\") \n",
    "\n",
    "t_max<-read.csv(\"nasa_mensual_tmax_bc.csv\", header = TRUE, sep = \",\", dec = \".\")\n",
    "t_med<-read.csv(\"nasa_mensual_tmed.csv\", header = TRUE, sep = \",\", dec = \".\")\n",
    "t_min<-read.csv(\"nasa_mensual_tmin_bc.csv\", header = TRUE, sep = \",\", dec = \".\") \n",
    "\n",
    "estacion<-read.csv(\"../1.0.Estaciones/estaciones_senamhi_generado.csv\", header = TRUE, sep = \",\", dec = \".\") \n",
    "\n",
    "# para metodo 1 = hargreaves\n",
    "datospei2 = spei_calc(estacion, escala, precip, t_max, t_min, 1)\n",
    "\n",
    "# para metodo 2 = thornthwaite\n",
    "#datospei2 = spei_calc(estacion, escala, precip, t_med)\n",
    "\n",
    "# Redondear valores y Guardar SPEI\n",
    "nombrespei = paste(\"../3.0.spi_spei/indices_spei\",escala,\".csv\",sep=\"\")\n",
    "write.csv(redondear(datospei2,3), file = nombrespei, row.names = FALSE)\n"
   ]
  }
 ],
 "metadata": {
  "kernelspec": {
   "display_name": "R",
   "language": "R",
   "name": "ir"
  },
  "language_info": {
   "codemirror_mode": "r",
   "file_extension": ".r",
   "mimetype": "text/x-r-source",
   "name": "R",
   "pygments_lexer": "r",
   "version": "4.1.2"
  }
 },
 "nbformat": 4,
 "nbformat_minor": 5
}
