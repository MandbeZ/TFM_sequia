{
 "cells": [
  {
   "cell_type": "markdown",
   "id": "b1c6e40b",
   "metadata": {},
   "source": [
    "## DETERMINAR CANTIDAD DE DATOS FALTANTES"
   ]
  },
  {
   "cell_type": "code",
   "execution_count": 1,
   "id": "449fbd4d",
   "metadata": {},
   "outputs": [],
   "source": [
    "import pandas as pd\n",
    "import numpy as np\n",
    "import matplotlib.pyplot as plt\n",
    "import seaborn as sns"
   ]
  },
  {
   "cell_type": "code",
   "execution_count": 2,
   "id": "da70bf29",
   "metadata": {},
   "outputs": [],
   "source": [
    "'''lista de archivos a leer'''\n",
    "lis_arch = ['obs_diario_pp.csv','obs_diario_tmax.csv','obs_diario_tmin.csv','obs_diario_tmed.csv',\\\n",
    "            'obs_diario_hmax.csv','obs_diario_hmin.csv','obs_diario_hmed.csv']\n",
    "nom = ['precipitacion','temp_max','temp_min','temp_med','hum_max','hum_min','hum_med']\n",
    "\n",
    "'''Se crea un data frame vacío para almacenar los resúmenes de todas las variables '''\n",
    "temp = pd.read_csv('../datos/por_variables/obs_diario_pp.csv', sep=',')"
   ]
  },
  {
   "cell_type": "code",
   "execution_count": 3,
   "id": "167bd40f",
   "metadata": {},
   "outputs": [],
   "source": [
    "'''Datos faltantes respecto a la variable precipitación'''\n",
    "pp=temp.drop(columns='fecha', axis=0)\n",
    "is_null_df = pp.isnull()"
   ]
  },
  {
   "cell_type": "code",
   "execution_count": 4,
   "id": "2597d6ab",
   "metadata": {},
   "outputs": [
    {
     "data": {
      "text/plain": [
       "'Los valores claros indican datos faltantes de precipitación'"
      ]
     },
     "execution_count": 4,
     "metadata": {},
     "output_type": "execute_result"
    },
    {
     "data": {
      "image/png": "[encoded data removed]",
      "text/plain": [
       "<Figure size 1080x360 with 2 Axes>"
      ]
     },
     "metadata": {
      "needs_background": "light"
     },
     "output_type": "display_data"
    }
   ],
   "source": [
    "'''Gráfica de Datos faltantes respecto a la variable precipitación'''\n",
    "fig =plt.figure(figsize=(15,5))\n",
    "ax = plt.gca()\n",
    "sns.heatmap(is_null_df,ax=ax)\n",
    "plt.tick_params(labelleft=False, left=False)\n",
    "'''Los valores claros indican datos faltantes de precipitación'''"
   ]
  },
  {
   "cell_type": "code",
   "execution_count": 6,
   "id": "b4e4309c",
   "metadata": {
    "scrolled": false
   },
   "outputs": [
    {
     "data": {
      "text/html": [
       "<div>\n",
       "<style scoped>\n",
       "    .dataframe tbody tr th:only-of-type {\n",
       "        vertical-align: middle;\n",
       "    }\n",
       "\n",
       "    .dataframe tbody tr th {\n",
       "        vertical-align: top;\n",
       "    }\n",
       "\n",
       "    .dataframe thead th {\n",
       "        text-align: right;\n",
       "    }\n",
       "</style>\n",
       "<table border=\"1\" class=\"dataframe\">\n",
       "  <thead>\n",
       "    <tr style=\"text-align: right;\">\n",
       "      <th>variable</th>\n",
       "      <th>ID</th>\n",
       "      <th>precipitacion</th>\n",
       "      <th>temp_max</th>\n",
       "      <th>temp_min</th>\n",
       "      <th>temp_med</th>\n",
       "      <th>hum_max</th>\n",
       "      <th>hum_min</th>\n",
       "      <th>hum_med</th>\n",
       "      <th>estacion</th>\n",
       "    </tr>\n",
       "  </thead>\n",
       "  <tbody>\n",
       "    <tr>\n",
       "      <th>0</th>\n",
       "      <td>201</td>\n",
       "      <td>0.99</td>\n",
       "      <td>1.55</td>\n",
       "      <td>1.49</td>\n",
       "      <td>10.81</td>\n",
       "      <td>11.03</td>\n",
       "      <td>100.00</td>\n",
       "      <td>10.81</td>\n",
       "      <td>ayoayo</td>\n",
       "    </tr>\n",
       "    <tr>\n",
       "      <th>1</th>\n",
       "      <td>203</td>\n",
       "      <td>1.10</td>\n",
       "      <td>1.62</td>\n",
       "      <td>1.51</td>\n",
       "      <td>1.66</td>\n",
       "      <td>13.05</td>\n",
       "      <td>13.05</td>\n",
       "      <td>13.05</td>\n",
       "      <td>calacoto</td>\n",
       "    </tr>\n",
       "    <tr>\n",
       "      <th>2</th>\n",
       "      <td>100</td>\n",
       "      <td>1.33</td>\n",
       "      <td>2.95</td>\n",
       "      <td>2.07</td>\n",
       "      <td>76.83</td>\n",
       "      <td>61.52</td>\n",
       "      <td>61.52</td>\n",
       "      <td>37.42</td>\n",
       "      <td>aeropuerto</td>\n",
       "    </tr>\n",
       "    <tr>\n",
       "      <th>3</th>\n",
       "      <td>202</td>\n",
       "      <td>3.19</td>\n",
       "      <td>100.00</td>\n",
       "      <td>100.00</td>\n",
       "      <td>100.00</td>\n",
       "      <td>100.00</td>\n",
       "      <td>100.00</td>\n",
       "      <td>100.00</td>\n",
       "      <td>berenguela</td>\n",
       "    </tr>\n",
       "    <tr>\n",
       "      <th>4</th>\n",
       "      <td>205</td>\n",
       "      <td>5.50</td>\n",
       "      <td>100.00</td>\n",
       "      <td>100.00</td>\n",
       "      <td>100.00</td>\n",
       "      <td>100.00</td>\n",
       "      <td>100.00</td>\n",
       "      <td>100.00</td>\n",
       "      <td>conchamarca</td>\n",
       "    </tr>\n",
       "    <tr>\n",
       "      <th>5</th>\n",
       "      <td>200</td>\n",
       "      <td>6.19</td>\n",
       "      <td>35.54</td>\n",
       "      <td>35.48</td>\n",
       "      <td>35.56</td>\n",
       "      <td>37.04</td>\n",
       "      <td>37.04</td>\n",
       "      <td>37.05</td>\n",
       "      <td>achiri</td>\n",
       "    </tr>\n",
       "  </tbody>\n",
       "</table>\n",
       "</div>"
      ],
      "text/plain": [
       "variable   ID  precipitacion  temp_max  temp_min  temp_med  hum_max  hum_min  \\\n",
       "0         201           0.99      1.55      1.49     10.81    11.03   100.00   \n",
       "1         203           1.10      1.62      1.51      1.66    13.05    13.05   \n",
       "2         100           1.33      2.95      2.07     76.83    61.52    61.52   \n",
       "3         202           3.19    100.00    100.00    100.00   100.00   100.00   \n",
       "4         205           5.50    100.00    100.00    100.00   100.00   100.00   \n",
       "5         200           6.19     35.54     35.48     35.56    37.04    37.04   \n",
       "\n",
       "variable  hum_med     estacion  \n",
       "0           10.81       ayoayo  \n",
       "1           13.05     calacoto  \n",
       "2           37.42   aeropuerto  \n",
       "3          100.00   berenguela  \n",
       "4          100.00  conchamarca  \n",
       "5           37.05       achiri  "
      ]
     },
     "execution_count": 6,
     "metadata": {},
     "output_type": "execute_result"
    }
   ],
   "source": [
    "sel =pd.DataFrame(columns=temp.columns)\n",
    "sel.rename(columns = {'fecha':'variable'}, inplace = True)\n",
    "\n",
    "'''Se define una fecha de inicio y una fecha de finalización'''\n",
    "ini ='1981-01-01'\n",
    "fin ='2020-12-31'\n",
    "for p in lis_arch:\n",
    "    pin ='../datos/por_variables/' + p\n",
    "    df = pd.read_csv(pin, sep=',')\n",
    "    '''Establecer rango de fechas'''\n",
    "    df['fecha']=pd.to_datetime(df['fecha'])\n",
    "    df=df[(df['fecha']>=ini) & (df['fecha']<fin)]\n",
    "    total = df.shape[0]\n",
    "    nulos = (df.isnull().sum()) * 100 / total\n",
    "    sel = sel.append([nulos], ignore_index=True)    \n",
    "sel = sel.assign(variable=nom)\n",
    "sel.drop(columns='fecha', axis=0, inplace = True)\n",
    "sel=sel.T\n",
    "sel.columns=sel.iloc[0,:]\n",
    "sel.drop('variable', axis=0, inplace=True)\n",
    "sel=sel.reset_index()\n",
    "sel.rename(columns = {'index':'ID'}, inplace = True)\n",
    "df=pd.read_csv('../datos/estaciones_senamhi_generado.csv', sep=',')\n",
    "sel['estacion']=df['estacion'].astype(str)\n",
    "nulos=sel[sel['precipitacion']<=10]\n",
    "nulos=nulos.sort_values('precipitacion').reset_index(drop=True)\n",
    "for i in range(1,8):\n",
    "    nulos.iloc[:,i] = nulos.iloc[:,i].apply(lambda x: round(x, 2))\n",
    "nulos"
   ]
  }
 ],
 "metadata": {
  "kernelspec": {
   "display_name": "Python 3 (ipykernel)",
   "language": "python",
   "name": "python3"
  },
  "language_info": {
   "codemirror_mode": {
    "name": "ipython",
    "version": 3
   },
   "file_extension": ".py",
   "mimetype": "text/x-python",
   "name": "python",
   "nbconvert_exporter": "python",
   "pygments_lexer": "ipython3",
   "version": "3.9.8"
  }
 },
 "nbformat": 4,
 "nbformat_minor": 5
}
