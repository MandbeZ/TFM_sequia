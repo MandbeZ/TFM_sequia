{
 "cells": [
  {
   "cell_type": "code",
   "execution_count": 1,
   "id": "f09648a0",
   "metadata": {},
   "outputs": [
    {
     "name": "stdout",
     "output_type": "stream",
     "text": [
      "Defaulting to user installation because normal site-packages is not writeable\n",
      "Requirement already satisfied: sklearn in /home/Carlos/.local/lib/python3.10/site-packages (0.0)\n",
      "Requirement already satisfied: scikit-learn in /home/Carlos/.local/lib/python3.10/site-packages (from sklearn) (1.0.2)\n",
      "Requirement already satisfied: threadpoolctl>=2.0.0 in /home/Carlos/.local/lib/python3.10/site-packages (from scikit-learn->sklearn) (3.1.0)\n",
      "Requirement already satisfied: numpy>=1.14.6 in /home/Carlos/.local/lib/python3.10/site-packages (from scikit-learn->sklearn) (1.21.5)\n",
      "Requirement already satisfied: scipy>=1.1.0 in /home/Carlos/.local/lib/python3.10/site-packages (from scikit-learn->sklearn) (1.7.3)\n",
      "Requirement already satisfied: joblib>=0.11 in /home/Carlos/.local/lib/python3.10/site-packages (from scikit-learn->sklearn) (1.1.0)\n",
      "Note: you may need to restart the kernel to use updated packages.\n"
     ]
    }
   ],
   "source": [
    "'''Instalar Sklearn para usar mean_squared_error '''\n",
    "%pip install sklearn"
   ]
  },
  {
   "cell_type": "code",
   "execution_count": 2,
   "id": "061a4ef1",
   "metadata": {},
   "outputs": [],
   "source": [
    "import pandas as pd\n",
    "import numpy as np\n",
    "from sklearn.linear_model import LinearRegression\n",
    "from sklearn.metrics import mean_squared_error,mean_absolute_percentage_error, r2_score,mean_absolute_error\n",
    "from sklearn.metrics import mean_absolute_error\n",
    "from math import sqrt\n",
    "from datetime import datetime\n",
    "import matplotlib.pyplot as plt"
   ]
  },
  {
   "cell_type": "code",
   "execution_count": 3,
   "id": "8d3787db",
   "metadata": {},
   "outputs": [],
   "source": [
    "def Bias(y_true, y_pred):\n",
    "    y_true = np.array(y_true)\n",
    "    y_pred = np.array(y_pred)\n",
    "    y_true = y_true.reshape(len(y_true),1)\n",
    "    y_pred = y_pred.reshape(len(y_pred),1)   \n",
    "    diff = (y_pred-y_true)\n",
    "    bias = diff.sum()*100/y_true.sum()\n",
    "    print('BIAS = ', bias)\n",
    "\n",
    "def trans_fecha(data):\n",
    "    if 'Date' in data.columns:\n",
    "        data.rename(columns={'Date':'fecha'}, inplace=True)\n",
    "    data['fecha'] = pd.to_datetime(data['fecha'])\n",
    "    return data\n",
    "\n",
    "def mes(data, mes):\n",
    "    data = data[data['fecha'].dt.month == mes]\n",
    "    data.reset_index(drop=True, inplace=True)\n",
    "    return data\n",
    "\n",
    "def media_mensual(data):\n",
    "    data = data.drop('fecha',axis=1)\n",
    "    data = data.reindex(columns = data.columns.sort_values(ascending=True))\n",
    "    data = data.mean()\n",
    "    data.sort_index(ascending=True, inplace=True)\n",
    "    return data"
   ]
  },
  {
   "cell_type": "markdown",
   "id": "c59c20b7",
   "metadata": {},
   "source": [
    "# PARA PRECIPITACION"
   ]
  },
  {
   "cell_type": "code",
   "execution_count": 4,
   "id": "40396711",
   "metadata": {},
   "outputs": [],
   "source": [
    "'''Datos Mensuales Sin Correcion'''\n",
    "ppobs = pd.read_csv('../datos/estaciones_climatol/pre-m_1981-2020_series.csv')   #Corregidos climatol\n",
    "ppchirp = pd.read_csv('../datos/por_variables/chirps_mensual_pp.csv')"
   ]
  },
  {
   "cell_type": "code",
   "execution_count": 5,
   "id": "ada71648",
   "metadata": {
    "scrolled": true
   },
   "outputs": [],
   "source": [
    "'''Cálculo de correciones BIAS'''\n",
    "ppobs = trans_fecha(ppobs)\n",
    "ppchirp = trans_fecha(ppchirp)\n",
    "\n",
    "ppchirp_correg = pd.DataFrame()\n",
    "\n",
    "for m in range(1,13):\n",
    "    obs_m = mes(ppobs, m)\n",
    "    media_mes_obs = media_mensual(obs_m)\n",
    "    \n",
    "    chirp_m = mes(ppchirp, m)\n",
    "    media_mes_chirp = media_mensual(chirp_m)\n",
    "    \n",
    "    mensual_correg = pd.DataFrame(chirp_m['fecha'], columns=chirp_m.columns)\n",
    "\n",
    "    res = pd.Series(index = media_mes_chirp.index, dtype='float64')\n",
    "    for indice in media_mes_chirp.index:\n",
    "        if indice in media_mes_obs:\n",
    "            res[indice] = media_mes_obs[indice] / media_mes_chirp[indice]\n",
    "        else:\n",
    "            res[indice] = 1.0\n",
    "        \n",
    "    for estacion in media_mes_chirp.index:\n",
    "        mensual_correg.loc[:,estacion] = chirp_m.loc[:,estacion]*res[estacion]\n",
    "    ppchirp_correg = pd.concat([ppchirp_correg, mensual_correg], axis = 0)\n",
    "ppchirp_correg.reset_index(drop=True, inplace=True)\n",
    "ppchirp_correg = ppchirp_correg.sort_values('fecha', ascending = True)\n",
    "ppchirp_correg.reset_index(drop=True, inplace=True)\n",
    "ppchirp_correg.to_csv(r'../datos/por_variables/chirps_mensual_pp_bc.csv', index=False)\n"
   ]
  },
  {
   "cell_type": "markdown",
   "id": "4639029e",
   "metadata": {},
   "source": [
    "# PARA TEMPERATURA MAXIMA"
   ]
  },
  {
   "cell_type": "code",
   "execution_count": 6,
   "id": "b663deca",
   "metadata": {},
   "outputs": [],
   "source": [
    "txobs = pd.read_csv('../datos/estaciones_climatol/tmax-m_1981-2020_series.csv')\n",
    "txnasa = pd.read_csv('../datos/por_variables/nasa_mensual_tmax.csv')"
   ]
  },
  {
   "cell_type": "code",
   "execution_count": 7,
   "id": "a4c54d52",
   "metadata": {},
   "outputs": [],
   "source": [
    "'''Cálculo de correciones BIAS'''\n",
    "txobs = trans_fecha(txobs)\n",
    "txnasa = trans_fecha(txnasa)\n",
    "\n",
    "txnasa_correg = pd.DataFrame()\n",
    "\n",
    "for m in range(1,13):\n",
    "    obs_m = mes(txobs, m)\n",
    "    media_mes_obs = media_mensual(obs_m)\n",
    "    \n",
    "    nasa_m = mes(txnasa, m)\n",
    "    media_mes_nasa = media_mensual(nasa_m)\n",
    "    \n",
    "    mensual_correg = pd.DataFrame(nasa_m['fecha'], columns=nasa_m.columns)\n",
    "\n",
    "    res = pd.Series(index = media_mes_nasa.index, dtype='float64')\n",
    "    for indice in media_mes_nasa.index:\n",
    "        if indice in media_mes_obs:\n",
    "            res[indice] = media_mes_obs[indice] / media_mes_nasa[indice]\n",
    "        else:\n",
    "            res[indice] = 1.0\n",
    "        \n",
    "    for estacion in media_mes_nasa.index:\n",
    "        mensual_correg.loc[:,estacion] = nasa_m.loc[:,estacion]*res[estacion]\n",
    "    txnasa_correg = pd.concat([txnasa_correg, mensual_correg], axis = 0)\n",
    "txnasa_correg.reset_index(drop=True, inplace=True)\n",
    "txnasa_correg = txnasa_correg.sort_values('fecha', ascending = True)\n",
    "txnasa_correg.reset_index(drop=True, inplace=True)\n",
    "txnasa_correg.to_csv(r'../datos/por_variables/nasa_mensual_tmax_bc.csv', index=False)"
   ]
  },
  {
   "cell_type": "markdown",
   "id": "d5361a37",
   "metadata": {},
   "source": [
    "# PARA TEMPERATURA MINIMA"
   ]
  },
  {
   "cell_type": "code",
   "execution_count": 8,
   "id": "3bc5f736",
   "metadata": {},
   "outputs": [],
   "source": [
    "tnobs = pd.read_csv('../datos/estaciones_climatol/tmin-m_1981-2020_series.csv')\n",
    "tnnasa = pd.read_csv('../datos/por_variables/nasa_mensual_tmin.csv')"
   ]
  },
  {
   "cell_type": "code",
   "execution_count": 9,
   "id": "196ab72f",
   "metadata": {},
   "outputs": [],
   "source": [
    "'''Cálculo de correciones BIAS'''\n",
    "tnobs = trans_fecha(tnobs)\n",
    "tnnasa = trans_fecha(tnnasa)\n",
    "\n",
    "tnnasa_correg = pd.DataFrame()\n",
    "\n",
    "for m in range(1,13):\n",
    "    obs_m = mes(tnobs, m)\n",
    "    media_mes_obs = media_mensual(obs_m)\n",
    "    \n",
    "    nasa_m = mes(tnnasa, m)\n",
    "    media_mes_nasa = media_mensual(nasa_m)\n",
    "    \n",
    "    mensual_correg = pd.DataFrame(nasa_m['fecha'], columns=nasa_m.columns)\n",
    "\n",
    "    res = pd.Series(index = media_mes_nasa.index, dtype='float64')\n",
    "    for indice in media_mes_nasa.index:\n",
    "        if indice in media_mes_obs:\n",
    "            res[indice] = media_mes_obs[indice] / media_mes_nasa[indice]\n",
    "        else:\n",
    "            res[indice] = 1.0\n",
    "        \n",
    "    for estacion in media_mes_nasa.index:\n",
    "        mensual_correg.loc[:,estacion] = nasa_m.loc[:,estacion]*res[estacion]\n",
    "    tnnasa_correg = pd.concat([tnnasa_correg, mensual_correg], axis = 0)\n",
    "tnnasa_correg.reset_index(drop=True, inplace=True)\n",
    "tnnasa_correg = tnnasa_correg.sort_values('fecha', ascending = True)\n",
    "tnnasa_correg.reset_index(drop=True, inplace=True)\n",
    "tnnasa_correg.to_csv(r'../datos/por_variables/nasa_mensual_tmin_bc.csv', index=False)\n"
   ]
  }
 ],
 "metadata": {
  "kernelspec": {
   "display_name": "Python 3 (ipykernel)",
   "language": "python",
   "name": "python3"
  },
  "language_info": {
   "codemirror_mode": {
    "name": "ipython",
    "version": 3
   },
   "file_extension": ".py",
   "mimetype": "text/x-python",
   "name": "python",
   "nbconvert_exporter": "python",
   "pygments_lexer": "ipython3",
   "version": "3.10.2"
  }
 },
 "nbformat": 4,
 "nbformat_minor": 5
}
