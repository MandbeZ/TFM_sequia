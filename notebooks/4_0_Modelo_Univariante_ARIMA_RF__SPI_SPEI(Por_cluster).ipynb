{
  "cells": [
    {
      "cell_type": "markdown",
      "metadata": {
        "id": "view-in-github",
        "colab_type": "text"
      },
      "source": [
        "<a href=\"https://colab.research.google.com/github/MandbeZ/TFM_sequia/blob/main/notebooks/4_0_Modelo_Univariante_ARIMA_RF__SPI_SPEI(Por_cluster).ipynb\" target=\"_parent\"><img src=\"https://colab.research.google.com/assets/colab-badge.svg\" alt=\"Open In Colab\"/></a>"
      ]
    },
    {
      "cell_type": "markdown",
      "metadata": {
        "id": "i47hVf8HoVhg"
      },
      "source": [
        "Instalación de SKtime"
      ]
    },
    {
      "cell_type": "code",
      "execution_count": null,
      "metadata": {
        "id": "vkO36W0ioP_i"
      },
      "outputs": [],
      "source": [
        "%pip install sktime\n",
        "%pip install sktime[all_extras]\n",
        "%pip install esig\n",
        "%pip install utils\n",
        "%pip install matplotlib==3.1.1"
      ]
    },
    {
      "cell_type": "markdown",
      "metadata": {
        "id": "Uykek5o7IH_B"
      },
      "source": [
        ""
      ]
    },
    {
      "cell_type": "code",
      "execution_count": null,
      "metadata": {
        "id": "-Fnl9K5jkW07"
      },
      "outputs": [],
      "source": [
        "from warnings import simplefilter\n",
        "simplefilter(action=\"ignore\", category=RuntimeWarning)\n",
        "simplefilter(action=\"ignore\", category=FutureWarning)\n",
        "# simplefilter(action=\"ignore\", category=ModelFitWarning)"
      ]
    },
    {
      "cell_type": "markdown",
      "metadata": {
        "id": "pV3oyjVVo4cm"
      },
      "source": [
        "Importar librerías básicas"
      ]
    },
    {
      "cell_type": "code",
      "execution_count": null,
      "metadata": {
        "id": "1CjfvPbmpAgU"
      },
      "outputs": [],
      "source": [
        "import pandas as pd\n",
        "import numpy as np\n",
        "import matplotlib.pyplot as plt\n",
        "from sklearn import preprocessing\n",
        "from sktime.utils.plotting import plot_series\n",
        "from sktime.forecasting.base import ForecastingHorizon\n",
        "from sktime.forecasting.model_selection import temporal_train_test_split\n",
        "from sktime.forecasting.compose import make_reduction\n",
        "from sktime.performance_metrics.forecasting import mean_absolute_percentage_error,\\\n",
        "                                                   mean_absolute_error, mean_squared_error\n",
        "\n",
        "# Naive Forecast / Pronóstico Ingenuo\n",
        "from sktime.forecasting.naive import NaiveForecaster\n",
        "\n",
        "# AutoARIMA\n",
        "from sktime.forecasting.arima import AutoARIMA\n",
        "\n",
        "# AutoETS\n",
        "from sktime.forecasting.ets import AutoETS\n",
        "\n",
        "# Algoritmos de Regresión de sklearn\n",
        "from sklearn.tree import DecisionTreeRegressor\n",
        "from sklearn.neighbors import KNeighborsRegressor\n",
        "from sklearn.ensemble import RandomForestRegressor\n",
        "from sklearn.linear_model import LinearRegression"
      ]
    },
    {
      "cell_type": "code",
      "execution_count": null,
      "metadata": {
        "id": "0-XkFQ5WCbJW"
      },
      "outputs": [],
      "source": [
        "t0 = pd.Timestamp.now()"
      ]
    },
    {
      "cell_type": "code",
      "execution_count": null,
      "metadata": {
        "id": "jxdXKhDeZH07"
      },
      "outputs": [],
      "source": [
        "#Definición de funciones\n",
        "\n",
        "def evaluar_modelo(test,pred):\n",
        "  print('MAPE:',mean_absolute_percentage_error(test, pred, symmetric=False)) \n",
        "  print('SMAPE:',mean_absolute_percentage_error(test, pred)) #symmetric default=True\n",
        "  print('MAE:',mean_absolute_error(test, pred) )\n",
        "  print('RMSE:',mean_squared_error(test, pred, square_root=True) ) # square_root=True RMSE , false MSE)\n",
        "  print('MSE:',mean_squared_error(test, pred, square_root=False) ) # square_root=True RMSE , false MSE)\n",
        "\n",
        "def graficar_modelo(train,test,pred,titulo='Modelo',inicio_serie=200,etiqy='Valor'):\n",
        "  plot_series(train[inicio_serie:], test, pred, labels=[\"y_train\", \"y_test\", \"y_pred\"])\n",
        "  plt.axhline(y=0.5, color='r', linestyle='dashed')\n",
        "  plt.title(titulo, c='darkblue', fontweight='bold', fontsize=15)\n",
        "  plt.ylabel(etiqy.upper(), fontweight='bold', fontsize=12)\n",
        "  plt.show()\n",
        "  #plt.savefig('../datos/4.1.Resultados_Graficas/'+titulo.replace(' ','')+'_'+etiqy.split(' ')[0]+'.png', dpi=300)\n",
        "\n",
        "\n",
        "def graficar_pred_est(data, modelo, clust=[0,1,2,3,4], escala=[1,3,6,12]):\n",
        "  predic = data\n",
        "\n",
        "  if 'spi' in predic.columns[0] : s = 'spi'\n",
        "  else : s = 'spei'\n",
        "\n",
        "  for e in escala:\n",
        "    indice = [ind for ind in predic.columns if s+str(e) in ind]\n",
        "    print('Escala: '+str(e))\n",
        "    if not indice: \n",
        "      print(indice)\n",
        "      continue\n",
        "    else:\n",
        "      datos = cargar_datos('indices_'+s+str(e)+'.csv')\n",
        "      p_datos = procesa_datos(datos)\n",
        "      datos_normalizados=normalizar_datos(p_datos)\n",
        "\n",
        "      for c in clust:\n",
        "        \n",
        "        cad = s+str(e)+'_c'+str(c)\n",
        "        \n",
        "        if (cad not in predic.columns):\n",
        "          continue\n",
        "        else:\n",
        "          estaciones = cluster[cluster['cluster'] == c].reset_index(drop=True)\n",
        "          \n",
        "\n",
        "          for est in range(estaciones.shape[0]):\n",
        "            estacion = [col for col in datos_normalizados.columns if str(estaciones['id'][est]) in col]\n",
        "            serie = datos_normalizados.loc[:,estacion]\n",
        "            train, test = dividir_datos(serie, tamanio = tam_ypred)\n",
        "            pred = data.iloc[:,0]\n",
        "            pred.index = test.index\n",
        "            nom_est = 'Estacion '+str(estaciones.iloc[est,0])+' - '+str(estaciones.iloc[est,1]).capitalize() \n",
        "            nom_clu = 'Cluster ' + str(c) + ' - '\n",
        "\n",
        "            graficar_modelo(train, test, pred,titulo=modelo+' - '+nom_clu+nom_est, inicio_serie=0, etiqy = s+str(e)+' - Normalizado')"
      ]
    },
    {
      "cell_type": "markdown",
      "metadata": {
        "id": "QyHUg5UookM1"
      },
      "source": [
        "# 1. Cargar los datos de SPI"
      ]
    },
    {
      "cell_type": "code",
      "execution_count": null,
      "metadata": {
        "id": "c_e9pqMmobcq"
      },
      "outputs": [],
      "source": [
        "def cargar_datos(archivo):\n",
        "    data = pd.read_csv('https://raw.githubusercontent.com/MandbeZ/TFM_sequia/main/datos/spi_spei/' + archivo,  sep = ',', parse_dates=True)\n",
        "    return data"
      ]
    },
    {
      "cell_type": "markdown",
      "metadata": {
        "id": "yAHMLwCUuJOj"
      },
      "source": [
        "# 2. Preprocesamiento de los datos"
      ]
    },
    {
      "cell_type": "code",
      "execution_count": null,
      "metadata": {
        "id": "iPVWivmZo4FD"
      },
      "outputs": [],
      "source": [
        "'''Llevar la  fecha a índice, configurar como periodo'''\n",
        "def procesa_datos(data):\n",
        "    data['fecha'] = pd.to_datetime(data['fecha'])\n",
        "    data = data.dropna()\n",
        "    data = data.set_index('fecha')\n",
        "    data.index = data.index.to_period('M')\n",
        "    return data"
      ]
    },
    {
      "cell_type": "markdown",
      "metadata": {
        "id": "0k2F2lE-p3Y6"
      },
      "source": [
        "## Normalizar los datos"
      ]
    },
    {
      "cell_type": "code",
      "execution_count": null,
      "metadata": {
        "id": "XfzLa7RBp1Yq"
      },
      "outputs": [],
      "source": [
        "'''para mejores resultados se pueden normalizar los datos: [0,1]'''\n",
        "def normalizar_datos(data):\n",
        "    return (data - data.min()) / ( data.max() - data.min())"
      ]
    },
    {
      "cell_type": "markdown",
      "metadata": {
        "id": "alai9CZ-CbJb"
      },
      "source": [
        "## Generar cluster"
      ]
    },
    {
      "cell_type": "code",
      "execution_count": null,
      "metadata": {
        "id": "Q7S_7aqmCbJc"
      },
      "outputs": [],
      "source": [
        "'''Devuelve un Dataframe con todas las estaciones de un determinado cluster'''\n",
        "def gen_cluster(lista_clust, clust, normalizados):\n",
        "    estaciones = lista_clust[lista_clust['cluster'] == clust]\n",
        "    nom_cols = [col for est in estaciones['id'] for col in normalizados.columns if str(est) in col]\n",
        "    datos = normalizados[nom_cols]\n",
        "    datos = datos.melt(value_name='valor').reset_index(drop=True)\n",
        "    return datos.iloc[:, 1]"
      ]
    },
    {
      "cell_type": "markdown",
      "metadata": {
        "id": "kF6aJJEJsoBL"
      },
      "source": [
        "# 3. Dividir Datos en Entrenamiento y prueba"
      ]
    },
    {
      "cell_type": "code",
      "execution_count": null,
      "metadata": {
        "id": "S3Di0reDsFI0"
      },
      "outputs": [],
      "source": [
        "'''Dividir el Dataset en Entrenamiento y prueba'''\n",
        "def dividir_datos(serie, tamanio):\n",
        "    y_train, y_test = temporal_train_test_split(serie, test_size=tamanio)\n",
        "    return y_train, y_test"
      ]
    },
    {
      "cell_type": "markdown",
      "metadata": {
        "id": "-b9zJ0O_wpIT"
      },
      "source": [
        "## Definir  el horizonte de predicción"
      ]
    },
    {
      "cell_type": "code",
      "execution_count": null,
      "metadata": {
        "id": "wEC4ZhXAwxVL"
      },
      "outputs": [],
      "source": [
        "'''Definir horizonte de predicción'''\n",
        "def horizon_prediccion(y_test):\n",
        "    return ForecastingHorizon(y_test.index, is_relative=False)  "
      ]
    },
    {
      "cell_type": "markdown",
      "metadata": {
        "id": "pfI_u2zSvq5X"
      },
      "source": [
        "# 4. Configuración del algoritmo"
      ]
    },
    {
      "cell_type": "code",
      "execution_count": null,
      "metadata": {
        "id": "CS7d72xtsnrO"
      },
      "outputs": [],
      "source": [
        "def config_algoritmo(algoritmo, estacionalidad = 12, ventana = 12, estrategia = 'mean'):\n",
        "    if algoritmo=='naive': return NaiveForecaster(strategy=estrategia, sp=estacionalidad, window_length=ventana) #strategy=\"drift\" o \"last\"  sp estacionalidad\n",
        "    elif algoritmo=='arima': return AutoARIMA(sp=estacionalidad, suppress_warnings=True) #Cambiar sp para reducir el error\n",
        "    elif algoritmo=='ets': return AutoETS(auto=True,sp=estacionalidad, n_jobs=-1) #sp=12\n",
        "\n",
        "def config_algoritmoReg(algoritmo,ventana = 12, estrategia = 'recursive',estimadores=30, vecinos=11):\n",
        "    if algoritmo=='LinearRegression':\n",
        "        reg=LinearRegression()    \n",
        "    elif algoritmo=='DecisionTreeRegressor': \n",
        "        reg=DecisionTreeRegressor()\n",
        "    elif algoritmo=='KNeighborsRegressor':\n",
        "        reg=KNeighborsRegressor(n_neighbors=vecinos)\n",
        "    elif algoritmo=='RandomForestRegressor':\n",
        "        reg=RandomForestRegressor(n_estimators=estimadores)\n",
        "    return make_reduction(reg,strategy=estrategia, window_length=ventana)"
      ]
    },
    {
      "cell_type": "markdown",
      "metadata": {
        "id": "k7TSsRnwyH30"
      },
      "source": [
        "# 5. Ajuste del Modelo"
      ]
    },
    {
      "cell_type": "code",
      "execution_count": null,
      "metadata": {
        "id": "8ZBPx5EOygx4"
      },
      "outputs": [],
      "source": [
        "def ajuste(predictor, y_train):\n",
        "    return predictor.fit(y_train)"
      ]
    },
    {
      "cell_type": "markdown",
      "metadata": {
        "id": "YH9PfvQYyMFK"
      },
      "source": [
        "# 6. Predicción del Modelo"
      ]
    },
    {
      "cell_type": "code",
      "execution_count": null,
      "metadata": {
        "id": "z5DLr3Aqxe2U"
      },
      "outputs": [],
      "source": [
        "def prediccion(predictor, horiz_prediccion):\n",
        "    return predictor.predict(horiz_prediccion)"
      ]
    },
    {
      "cell_type": "markdown",
      "metadata": {
        "id": "txXDzxqeyUiW"
      },
      "source": [
        "# 7. Evaluación del Modelo"
      ]
    },
    {
      "cell_type": "code",
      "execution_count": null,
      "metadata": {
        "id": "ZL20hhlUxiFO"
      },
      "outputs": [],
      "source": [
        "def evaluacion_modelo(test,pred):\n",
        "    mape = mean_absolute_percentage_error(test, pred, symmetric=False)\n",
        "    # smape = mean_absolute_percentage_error(test, pred) #symmetric default=True\n",
        "    mae = mean_absolute_error(test, pred) \n",
        "    rmse = mean_squared_error(test, pred, square_root=True) # square_root=True RMSE , false MSE)\n",
        "    mse = mean_squared_error(test, pred, square_root=False) # square_root=True RMSE , false MSE)\n",
        "    return [mape, mae, rmse, mse]"
      ]
    },
    {
      "cell_type": "markdown",
      "metadata": {
        "id": "YE1aJt203q8-"
      },
      "source": [
        "# MODELOS ESTADÍSTICOS DE FORECASTING (SERIES TEMPORALES)"
      ]
    },
    {
      "cell_type": "markdown",
      "metadata": {
        "id": "PmcrYWa0AJOe"
      },
      "source": [
        "## Definir horizonte de predicción e índice"
      ]
    },
    {
      "cell_type": "code",
      "execution_count": null,
      "metadata": {
        "id": "6gatKfAuAJOe"
      },
      "outputs": [],
      "source": [
        "tam_ypred = 12\n",
        "indice='spei'"
      ]
    },
    {
      "cell_type": "code",
      "execution_count": null,
      "metadata": {
        "colab": {
          "base_uri": "https://localhost:8080/",
          "height": 468
        },
        "id": "WuQO9ufgOfqc",
        "outputId": "aff85e8f-42ec-4ace-e1ab-bce8819c564d",
        "scrolled": true
      },
      "outputs": [
        {
          "output_type": "stream",
          "name": "stdout",
          "text": [
            "escala 3 - cluster 0\n",
            "escala 3 - cluster 1\n",
            "escala 3 - cluster 2\n",
            "escala 3 - cluster 3\n"
          ]
        },
        {
          "output_type": "error",
          "ename": "ValueError",
          "evalue": "ignored",
          "traceback": [
            "\u001b[0;31m---------------------------------------------------------------------------\u001b[0m",
            "\u001b[0;31mValueError\u001b[0m                                Traceback (most recent call last)",
            "\u001b[0;32m<ipython-input-17-0ee972a4ec0a>\u001b[0m in \u001b[0;36m<module>\u001b[0;34m()\u001b[0m\n\u001b[1;32m     41\u001b[0m \u001b[0;34m\u001b[0m\u001b[0m\n\u001b[1;32m     42\u001b[0m         \u001b[0;34m'''5. Ajuste modelo'''\u001b[0m\u001b[0;34m\u001b[0m\u001b[0;34m\u001b[0m\u001b[0m\n\u001b[0;32m---> 43\u001b[0;31m         \u001b[0mpredictor\u001b[0m \u001b[0;34m=\u001b[0m \u001b[0majuste\u001b[0m\u001b[0;34m(\u001b[0m\u001b[0mpredictor\u001b[0m\u001b[0;34m,\u001b[0m \u001b[0my_train\u001b[0m\u001b[0;34m)\u001b[0m\u001b[0;34m\u001b[0m\u001b[0;34m\u001b[0m\u001b[0m\n\u001b[0m\u001b[1;32m     44\u001b[0m \u001b[0;34m\u001b[0m\u001b[0m\n\u001b[1;32m     45\u001b[0m         \u001b[0;34m'''6. Predicción'''\u001b[0m\u001b[0;34m\u001b[0m\u001b[0;34m\u001b[0m\u001b[0m\n",
            "\u001b[0;32m<ipython-input-13-3bdfec53d708>\u001b[0m in \u001b[0;36majuste\u001b[0;34m(predictor, y_train)\u001b[0m\n\u001b[1;32m      1\u001b[0m \u001b[0;32mdef\u001b[0m \u001b[0majuste\u001b[0m\u001b[0;34m(\u001b[0m\u001b[0mpredictor\u001b[0m\u001b[0;34m,\u001b[0m \u001b[0my_train\u001b[0m\u001b[0;34m)\u001b[0m\u001b[0;34m:\u001b[0m\u001b[0;34m\u001b[0m\u001b[0;34m\u001b[0m\u001b[0m\n\u001b[0;32m----> 2\u001b[0;31m     \u001b[0;32mreturn\u001b[0m \u001b[0mpredictor\u001b[0m\u001b[0;34m.\u001b[0m\u001b[0mfit\u001b[0m\u001b[0;34m(\u001b[0m\u001b[0my_train\u001b[0m\u001b[0;34m)\u001b[0m\u001b[0;34m\u001b[0m\u001b[0;34m\u001b[0m\u001b[0m\n\u001b[0m",
            "\u001b[0;32m/usr/local/lib/python3.7/dist-packages/sktime/forecasting/base/_base.py\u001b[0m in \u001b[0;36mfit\u001b[0;34m(self, y, X, fh)\u001b[0m\n\u001b[1;32m    137\u001b[0m         \u001b[0;31m#####################################################\u001b[0m\u001b[0;34m\u001b[0m\u001b[0;34m\u001b[0m\u001b[0;34m\u001b[0m\u001b[0m\n\u001b[1;32m    138\u001b[0m \u001b[0;34m\u001b[0m\u001b[0m\n\u001b[0;32m--> 139\u001b[0;31m         \u001b[0mself\u001b[0m\u001b[0;34m.\u001b[0m\u001b[0m_fit\u001b[0m\u001b[0;34m(\u001b[0m\u001b[0my\u001b[0m\u001b[0;34m=\u001b[0m\u001b[0my_inner\u001b[0m\u001b[0;34m,\u001b[0m \u001b[0mX\u001b[0m\u001b[0;34m=\u001b[0m\u001b[0mX_inner\u001b[0m\u001b[0;34m,\u001b[0m \u001b[0mfh\u001b[0m\u001b[0;34m=\u001b[0m\u001b[0mfh\u001b[0m\u001b[0;34m)\u001b[0m\u001b[0;34m\u001b[0m\u001b[0;34m\u001b[0m\u001b[0m\n\u001b[0m\u001b[1;32m    140\u001b[0m \u001b[0;34m\u001b[0m\u001b[0m\n\u001b[1;32m    141\u001b[0m         \u001b[0;31m# this should happen last\u001b[0m\u001b[0;34m\u001b[0m\u001b[0;34m\u001b[0m\u001b[0;34m\u001b[0m\u001b[0m\n",
            "\u001b[0;32m/usr/local/lib/python3.7/dist-packages/sktime/forecasting/base/adapters/_pmdarima.py\u001b[0m in \u001b[0;36m_fit\u001b[0;34m(self, y, X, fh, **fit_params)\u001b[0m\n\u001b[1;32m     47\u001b[0m         \"\"\"\n\u001b[1;32m     48\u001b[0m         \u001b[0mself\u001b[0m\u001b[0;34m.\u001b[0m\u001b[0m_forecaster\u001b[0m \u001b[0;34m=\u001b[0m \u001b[0mself\u001b[0m\u001b[0;34m.\u001b[0m\u001b[0m_instantiate_model\u001b[0m\u001b[0;34m(\u001b[0m\u001b[0;34m)\u001b[0m\u001b[0;34m\u001b[0m\u001b[0;34m\u001b[0m\u001b[0m\n\u001b[0;32m---> 49\u001b[0;31m         \u001b[0mself\u001b[0m\u001b[0;34m.\u001b[0m\u001b[0m_forecaster\u001b[0m\u001b[0;34m.\u001b[0m\u001b[0mfit\u001b[0m\u001b[0;34m(\u001b[0m\u001b[0my\u001b[0m\u001b[0;34m,\u001b[0m \u001b[0mX\u001b[0m\u001b[0;34m=\u001b[0m\u001b[0mX\u001b[0m\u001b[0;34m,\u001b[0m \u001b[0;34m**\u001b[0m\u001b[0mfit_params\u001b[0m\u001b[0;34m)\u001b[0m\u001b[0;34m\u001b[0m\u001b[0;34m\u001b[0m\u001b[0m\n\u001b[0m\u001b[1;32m     50\u001b[0m         \u001b[0;32mreturn\u001b[0m \u001b[0mself\u001b[0m\u001b[0;34m\u001b[0m\u001b[0;34m\u001b[0m\u001b[0m\n\u001b[1;32m     51\u001b[0m \u001b[0;34m\u001b[0m\u001b[0m\n",
            "\u001b[0;32m/usr/local/lib/python3.7/dist-packages/pmdarima/arima/auto.py\u001b[0m in \u001b[0;36mfit\u001b[0;34m(self, y, X, **fit_args)\u001b[0m\n\u001b[1;32m    218\u001b[0m             \u001b[0mwith_intercept\u001b[0m\u001b[0;34m=\u001b[0m\u001b[0mself\u001b[0m\u001b[0;34m.\u001b[0m\u001b[0mwith_intercept\u001b[0m\u001b[0;34m,\u001b[0m\u001b[0;34m\u001b[0m\u001b[0;34m\u001b[0m\u001b[0m\n\u001b[1;32m    219\u001b[0m             \u001b[0msarimax_kwargs\u001b[0m\u001b[0;34m=\u001b[0m\u001b[0msarimax_kwargs\u001b[0m\u001b[0;34m,\u001b[0m\u001b[0;34m\u001b[0m\u001b[0;34m\u001b[0m\u001b[0m\n\u001b[0;32m--> 220\u001b[0;31m             **fit_args)\n\u001b[0m\u001b[1;32m    221\u001b[0m \u001b[0;34m\u001b[0m\u001b[0m\n\u001b[1;32m    222\u001b[0m         \u001b[0;32mreturn\u001b[0m \u001b[0mself\u001b[0m\u001b[0;34m\u001b[0m\u001b[0;34m\u001b[0m\u001b[0m\n",
            "\u001b[0;32m/usr/local/lib/python3.7/dist-packages/pmdarima/arima/auto.py\u001b[0m in \u001b[0;36mauto_arima\u001b[0;34m(y, X, start_p, d, start_q, max_p, max_d, max_q, start_P, D, start_Q, max_P, max_D, max_Q, max_order, m, seasonal, stationary, information_criterion, alpha, test, seasonal_test, stepwise, n_jobs, start_params, trend, method, maxiter, offset_test_args, seasonal_test_args, suppress_warnings, error_action, trace, random, random_state, n_fits, return_valid_fits, out_of_sample_size, scoring, scoring_args, with_intercept, sarimax_kwargs, **fit_args)\u001b[0m\n\u001b[1;32m    521\u001b[0m     \u001b[0;32melif\u001b[0m \u001b[0mD\u001b[0m \u001b[0;32mis\u001b[0m \u001b[0;32mNone\u001b[0m\u001b[0;34m:\u001b[0m  \u001b[0;31m# we don't have a D yet and we need one (seasonal)\u001b[0m\u001b[0;34m\u001b[0m\u001b[0;34m\u001b[0m\u001b[0m\n\u001b[1;32m    522\u001b[0m         D = nsdiffs(xx, m=m, test=seasonal_test, max_D=max_D,\n\u001b[0;32m--> 523\u001b[0;31m                     **seasonal_test_args)\n\u001b[0m\u001b[1;32m    524\u001b[0m \u001b[0;34m\u001b[0m\u001b[0m\n\u001b[1;32m    525\u001b[0m         \u001b[0;32mif\u001b[0m \u001b[0mD\u001b[0m \u001b[0;34m>\u001b[0m \u001b[0;36m0\u001b[0m \u001b[0;32mand\u001b[0m \u001b[0mX\u001b[0m \u001b[0;32mis\u001b[0m \u001b[0;32mnot\u001b[0m \u001b[0;32mNone\u001b[0m\u001b[0;34m:\u001b[0m\u001b[0;34m\u001b[0m\u001b[0;34m\u001b[0m\u001b[0m\n",
            "\u001b[0;32m/usr/local/lib/python3.7/dist-packages/pmdarima/arima/utils.py\u001b[0m in \u001b[0;36mnsdiffs\u001b[0;34m(x, m, max_D, test, **kwargs)\u001b[0m\n\u001b[1;32m    104\u001b[0m \u001b[0;34m\u001b[0m\u001b[0m\n\u001b[1;32m    105\u001b[0m     \u001b[0mD\u001b[0m \u001b[0;34m=\u001b[0m \u001b[0;36m0\u001b[0m\u001b[0;34m\u001b[0m\u001b[0;34m\u001b[0m\u001b[0m\n\u001b[0;32m--> 106\u001b[0;31m     \u001b[0mdodiff\u001b[0m \u001b[0;34m=\u001b[0m \u001b[0mtestfunc\u001b[0m\u001b[0;34m(\u001b[0m\u001b[0mx\u001b[0m\u001b[0;34m)\u001b[0m\u001b[0;34m\u001b[0m\u001b[0;34m\u001b[0m\u001b[0m\n\u001b[0m\u001b[1;32m    107\u001b[0m     \u001b[0;32mwhile\u001b[0m \u001b[0mdodiff\u001b[0m \u001b[0;34m==\u001b[0m \u001b[0;36m1\u001b[0m \u001b[0;32mand\u001b[0m \u001b[0mD\u001b[0m \u001b[0;34m<\u001b[0m \u001b[0mmax_D\u001b[0m\u001b[0;34m:\u001b[0m\u001b[0;34m\u001b[0m\u001b[0;34m\u001b[0m\u001b[0m\n\u001b[1;32m    108\u001b[0m         \u001b[0mD\u001b[0m \u001b[0;34m+=\u001b[0m \u001b[0;36m1\u001b[0m\u001b[0;34m\u001b[0m\u001b[0;34m\u001b[0m\u001b[0m\n",
            "\u001b[0;32m/usr/local/lib/python3.7/dist-packages/pmdarima/arima/seasonality.py\u001b[0m in \u001b[0;36mestimate_seasonal_differencing_term\u001b[0;34m(self, x)\u001b[0m\n\u001b[1;32m    590\u001b[0m \u001b[0;34m\u001b[0m\u001b[0m\n\u001b[1;32m    591\u001b[0m         \u001b[0;31m# Get the critical value for m\u001b[0m\u001b[0;34m\u001b[0m\u001b[0;34m\u001b[0m\u001b[0;34m\u001b[0m\u001b[0m\n\u001b[0;32m--> 592\u001b[0;31m         \u001b[0mstat\u001b[0m \u001b[0;34m=\u001b[0m \u001b[0mself\u001b[0m\u001b[0;34m.\u001b[0m\u001b[0m_compute_test_statistic\u001b[0m\u001b[0;34m(\u001b[0m\u001b[0mx\u001b[0m\u001b[0;34m)\u001b[0m\u001b[0;34m\u001b[0m\u001b[0;34m\u001b[0m\u001b[0m\n\u001b[0m\u001b[1;32m    593\u001b[0m         \u001b[0mcrit_val\u001b[0m \u001b[0;34m=\u001b[0m \u001b[0mself\u001b[0m\u001b[0;34m.\u001b[0m\u001b[0m_calc_ocsb_crit_val\u001b[0m\u001b[0;34m(\u001b[0m\u001b[0mself\u001b[0m\u001b[0;34m.\u001b[0m\u001b[0mm\u001b[0m\u001b[0;34m)\u001b[0m\u001b[0;34m\u001b[0m\u001b[0;34m\u001b[0m\u001b[0m\n\u001b[1;32m    594\u001b[0m         \u001b[0;32mreturn\u001b[0m \u001b[0mint\u001b[0m\u001b[0;34m(\u001b[0m\u001b[0mstat\u001b[0m \u001b[0;34m>\u001b[0m \u001b[0mcrit_val\u001b[0m\u001b[0;34m)\u001b[0m\u001b[0;34m\u001b[0m\u001b[0;34m\u001b[0m\u001b[0m\n",
            "\u001b[0;32m/usr/local/lib/python3.7/dist-packages/pmdarima/arima/seasonality.py\u001b[0m in \u001b[0;36m_compute_test_statistic\u001b[0;34m(self, x)\u001b[0m\n\u001b[1;32m    530\u001b[0m             \u001b[0;32mfor\u001b[0m \u001b[0mlag_term\u001b[0m \u001b[0;32min\u001b[0m \u001b[0mrange\u001b[0m\u001b[0;34m(\u001b[0m\u001b[0;36m1\u001b[0m\u001b[0;34m,\u001b[0m \u001b[0mmaxlag\u001b[0m \u001b[0;34m+\u001b[0m \u001b[0;36m1\u001b[0m\u001b[0;34m)\u001b[0m\u001b[0;34m:\u001b[0m  \u001b[0;31m# 1 -> maxlag (incl)\u001b[0m\u001b[0;34m\u001b[0m\u001b[0;34m\u001b[0m\u001b[0m\n\u001b[1;32m    531\u001b[0m                 \u001b[0;32mtry\u001b[0m\u001b[0;34m:\u001b[0m\u001b[0;34m\u001b[0m\u001b[0;34m\u001b[0m\u001b[0m\n\u001b[0;32m--> 532\u001b[0;31m                     \u001b[0mfit\u001b[0m \u001b[0;34m=\u001b[0m \u001b[0mself\u001b[0m\u001b[0;34m.\u001b[0m\u001b[0m_fit_ocsb\u001b[0m\u001b[0;34m(\u001b[0m\u001b[0mx\u001b[0m\u001b[0;34m,\u001b[0m \u001b[0mm\u001b[0m\u001b[0;34m,\u001b[0m \u001b[0mlag_term\u001b[0m\u001b[0;34m,\u001b[0m \u001b[0mmaxlag\u001b[0m\u001b[0;34m)\u001b[0m\u001b[0;34m\u001b[0m\u001b[0;34m\u001b[0m\u001b[0m\n\u001b[0m\u001b[1;32m    533\u001b[0m                     \u001b[0mfits\u001b[0m\u001b[0;34m.\u001b[0m\u001b[0mappend\u001b[0m\u001b[0;34m(\u001b[0m\u001b[0mfit\u001b[0m\u001b[0;34m)\u001b[0m\u001b[0;34m\u001b[0m\u001b[0;34m\u001b[0m\u001b[0m\n\u001b[1;32m    534\u001b[0m                     \u001b[0micvals\u001b[0m\u001b[0;34m.\u001b[0m\u001b[0mappend\u001b[0m\u001b[0;34m(\u001b[0m\u001b[0micfunc\u001b[0m\u001b[0;34m(\u001b[0m\u001b[0mfit\u001b[0m\u001b[0;34m)\u001b[0m\u001b[0;34m)\u001b[0m\u001b[0;34m\u001b[0m\u001b[0;34m\u001b[0m\u001b[0m\n",
            "\u001b[0;32m/usr/local/lib/python3.7/dist-packages/pmdarima/arima/seasonality.py\u001b[0m in \u001b[0;36m_fit_ocsb\u001b[0;34m(x, m, lag, max_lag)\u001b[0m\n\u001b[1;32m    465\u001b[0m     \u001b[0;32mdef\u001b[0m \u001b[0m_fit_ocsb\u001b[0m\u001b[0;34m(\u001b[0m\u001b[0mx\u001b[0m\u001b[0;34m,\u001b[0m \u001b[0mm\u001b[0m\u001b[0;34m,\u001b[0m \u001b[0mlag\u001b[0m\u001b[0;34m,\u001b[0m \u001b[0mmax_lag\u001b[0m\u001b[0;34m)\u001b[0m\u001b[0;34m:\u001b[0m\u001b[0;34m\u001b[0m\u001b[0;34m\u001b[0m\u001b[0m\n\u001b[1;32m    466\u001b[0m         \u001b[0;34m\"\"\"Fit the linear model used to compute the test statistic\"\"\"\u001b[0m\u001b[0;34m\u001b[0m\u001b[0;34m\u001b[0m\u001b[0m\n\u001b[0;32m--> 467\u001b[0;31m         \u001b[0my_first_order_diff\u001b[0m \u001b[0;34m=\u001b[0m \u001b[0mdiff\u001b[0m\u001b[0;34m(\u001b[0m\u001b[0mx\u001b[0m\u001b[0;34m,\u001b[0m \u001b[0mm\u001b[0m\u001b[0;34m)\u001b[0m\u001b[0;34m\u001b[0m\u001b[0;34m\u001b[0m\u001b[0m\n\u001b[0m\u001b[1;32m    468\u001b[0m \u001b[0;34m\u001b[0m\u001b[0m\n\u001b[1;32m    469\u001b[0m         \u001b[0;31m# if there are no more samples, we have to bail\u001b[0m\u001b[0;34m\u001b[0m\u001b[0;34m\u001b[0m\u001b[0;34m\u001b[0m\u001b[0m\n",
            "\u001b[0;32m/usr/local/lib/python3.7/dist-packages/pmdarima/utils/array.py\u001b[0m in \u001b[0;36mdiff\u001b[0;34m(x, lag, differences)\u001b[0m\n\u001b[1;32m    299\u001b[0m         \u001b[0;32mraise\u001b[0m \u001b[0mValueError\u001b[0m\u001b[0;34m(\u001b[0m\u001b[0;34m'lag and differences must be positive (> 0) integers'\u001b[0m\u001b[0;34m)\u001b[0m\u001b[0;34m\u001b[0m\u001b[0;34m\u001b[0m\u001b[0m\n\u001b[1;32m    300\u001b[0m \u001b[0;34m\u001b[0m\u001b[0m\n\u001b[0;32m--> 301\u001b[0;31m     \u001b[0mx\u001b[0m \u001b[0;34m=\u001b[0m \u001b[0mcheck_array\u001b[0m\u001b[0;34m(\u001b[0m\u001b[0mx\u001b[0m\u001b[0;34m,\u001b[0m \u001b[0mensure_2d\u001b[0m\u001b[0;34m=\u001b[0m\u001b[0;32mFalse\u001b[0m\u001b[0;34m,\u001b[0m \u001b[0mdtype\u001b[0m\u001b[0;34m=\u001b[0m\u001b[0mDTYPE\u001b[0m\u001b[0;34m,\u001b[0m \u001b[0mcopy\u001b[0m\u001b[0;34m=\u001b[0m\u001b[0;32mFalse\u001b[0m\u001b[0;34m)\u001b[0m\u001b[0;34m\u001b[0m\u001b[0;34m\u001b[0m\u001b[0m\n\u001b[0m\u001b[1;32m    302\u001b[0m     \u001b[0mfun\u001b[0m \u001b[0;34m=\u001b[0m \u001b[0m_diff_vector\u001b[0m \u001b[0;32mif\u001b[0m \u001b[0mx\u001b[0m\u001b[0;34m.\u001b[0m\u001b[0mndim\u001b[0m \u001b[0;34m==\u001b[0m \u001b[0;36m1\u001b[0m \u001b[0;32melse\u001b[0m \u001b[0m_diff_matrix\u001b[0m\u001b[0;34m\u001b[0m\u001b[0;34m\u001b[0m\u001b[0m\n\u001b[1;32m    303\u001b[0m     \u001b[0mres\u001b[0m \u001b[0;34m=\u001b[0m \u001b[0mx\u001b[0m\u001b[0;34m\u001b[0m\u001b[0;34m\u001b[0m\u001b[0m\n",
            "\u001b[0;32m/usr/local/lib/python3.7/dist-packages/sklearn/utils/validation.py\u001b[0m in \u001b[0;36mcheck_array\u001b[0;34m(array, accept_sparse, accept_large_sparse, dtype, order, copy, force_all_finite, ensure_2d, allow_nd, ensure_min_samples, ensure_min_features, estimator)\u001b[0m\n\u001b[1;32m    798\u001b[0m \u001b[0;34m\u001b[0m\u001b[0m\n\u001b[1;32m    799\u001b[0m         \u001b[0;32mif\u001b[0m \u001b[0mforce_all_finite\u001b[0m\u001b[0;34m:\u001b[0m\u001b[0;34m\u001b[0m\u001b[0;34m\u001b[0m\u001b[0m\n\u001b[0;32m--> 800\u001b[0;31m             \u001b[0m_assert_all_finite\u001b[0m\u001b[0;34m(\u001b[0m\u001b[0marray\u001b[0m\u001b[0;34m,\u001b[0m \u001b[0mallow_nan\u001b[0m\u001b[0;34m=\u001b[0m\u001b[0mforce_all_finite\u001b[0m \u001b[0;34m==\u001b[0m \u001b[0;34m\"allow-nan\"\u001b[0m\u001b[0;34m)\u001b[0m\u001b[0;34m\u001b[0m\u001b[0;34m\u001b[0m\u001b[0m\n\u001b[0m\u001b[1;32m    801\u001b[0m \u001b[0;34m\u001b[0m\u001b[0m\n\u001b[1;32m    802\u001b[0m     \u001b[0;32mif\u001b[0m \u001b[0mensure_min_samples\u001b[0m \u001b[0;34m>\u001b[0m \u001b[0;36m0\u001b[0m\u001b[0;34m:\u001b[0m\u001b[0;34m\u001b[0m\u001b[0;34m\u001b[0m\u001b[0m\n",
            "\u001b[0;32m/usr/local/lib/python3.7/dist-packages/sklearn/utils/validation.py\u001b[0m in \u001b[0;36m_assert_all_finite\u001b[0;34m(X, allow_nan, msg_dtype)\u001b[0m\n\u001b[1;32m    114\u001b[0m             raise ValueError(\n\u001b[1;32m    115\u001b[0m                 msg_err.format(\n\u001b[0;32m--> 116\u001b[0;31m                     \u001b[0mtype_err\u001b[0m\u001b[0;34m,\u001b[0m \u001b[0mmsg_dtype\u001b[0m \u001b[0;32mif\u001b[0m \u001b[0mmsg_dtype\u001b[0m \u001b[0;32mis\u001b[0m \u001b[0;32mnot\u001b[0m \u001b[0;32mNone\u001b[0m \u001b[0;32melse\u001b[0m \u001b[0mX\u001b[0m\u001b[0;34m.\u001b[0m\u001b[0mdtype\u001b[0m\u001b[0;34m\u001b[0m\u001b[0;34m\u001b[0m\u001b[0m\n\u001b[0m\u001b[1;32m    117\u001b[0m                 )\n\u001b[1;32m    118\u001b[0m             )\n",
            "\u001b[0;31mValueError\u001b[0m: Input contains NaN, infinity or a value too large for dtype('float64')."
          ]
        }
      ],
      "source": [
        "'''cargar archivos con datos de cluster'''\n",
        "cluster = pd.read_csv('https://raw.githubusercontent.com/MandbeZ/TFM_sequia/main/datos/spi_spei/cluster_4.csv',  sep = ',', usecols = {'id', 'cluster', 'estacion'})\n",
        "\n",
        "'''-- Declara DF para almacenar los y_pred,\n",
        "      DF para almacenar los datos de la evaluacion'''\n",
        "df_predts = pd.DataFrame()\n",
        "df_evalts = pd.DataFrame(index = ['MAPE','MAE','RMSE','MSE'])\n",
        "columnas = []\n",
        "\n",
        "\n",
        "'''Escala representa la escala temporal de SPI y SPEI = 3,6,12'''\n",
        "for escala in [3,6,12]:\n",
        "        \n",
        "    '''1. Cargar archivo SPI-SPEI'''\n",
        "    cad = indice+str(escala)\n",
        "    datos = cargar_datos('indices_' +cad+ '.csv')\n",
        "\n",
        "    '''2. Procesamiento de datos'''\n",
        "    datos_procesados = procesa_datos(datos)\n",
        "\n",
        "    '''-- Normalizar datos'''\n",
        "    datos_normalizados = normalizar_datos(datos_procesados)\n",
        "    \n",
        "    '''definir los clusters'''\n",
        "    lista_cluster = sorted(cluster['cluster'].unique())\n",
        "    \n",
        "    '''i representa el número de cluster'''\n",
        "    for i in  lista_cluster:\n",
        "        print(f'escala {escala} - cluster {i}')\n",
        "        '''-- Trabajar con un cluster'''\n",
        "        serie = gen_cluster(cluster, i, datos_normalizados)\n",
        "\n",
        "        '''3. Datos de entrenamiento y prueba'''\n",
        "        y_train, y_test = dividir_datos(serie, tamanio = tam_ypred)\n",
        "\n",
        "        '''Definir el horizonte de predicción'''\n",
        "        horizonte_prediccion = horizon_prediccion(y_test)\n",
        "\n",
        "        '''4. Configurar algoritmo, valores ['naive', 'arima', 'ets']'''\n",
        "        predictor = config_algoritmo('arima', estacionalidad = 12, ventana = 48, estrategia = 'mean')\n",
        "\n",
        "        '''5. Ajuste modelo'''\n",
        "        predictor = ajuste(predictor, y_train)\n",
        "\n",
        "        '''6. Predicción'''\n",
        "        y_pred = prediccion(predictor, horizonte_prediccion)\n",
        "\n",
        "        '''7. Evaluación'''\n",
        "        datos_eval = evaluacion_modelo(y_test, y_pred)\n",
        "\n",
        "        '''-- Almacenar todos los y_pred, datos_eval en DFs y nombre de columnas'''\n",
        "        df_predts = pd.concat([df_predts, y_pred.reset_index(drop=True)], axis = 1)\n",
        "        df_evalts[indice+str(escala)+'_c'+str(i)] = datos_eval\n",
        "        columnas.append(indice+str(escala)+'_c'+str(i))\n",
        "\n",
        "'''Cambiar el nombre de las columnas'''\n",
        "df_predts.columns = columnas\n",
        "\n"
      ]
    },
    {
      "cell_type": "code",
      "execution_count": null,
      "metadata": {
        "id": "y3QUfgGIEHi2",
        "scrolled": true
      },
      "outputs": [],
      "source": [
        "graficar_pred_est(df_predts, 'Modelo Arima')"
      ]
    },
    {
      "cell_type": "code",
      "execution_count": null,
      "metadata": {
        "id": "I_6yyPJkvPwS"
      },
      "outputs": [],
      "source": [
        "df_predts"
      ]
    },
    {
      "cell_type": "code",
      "execution_count": null,
      "metadata": {
        "id": "ZmhH-1KPyD9I"
      },
      "outputs": [],
      "source": [
        "df_evalts"
      ]
    },
    {
      "cell_type": "markdown",
      "metadata": {
        "id": "AEtL5SNM0afD"
      },
      "source": [
        "# ALGORITMOS DE REGRESIÓN DE APRENDIZAJE AUTOMÁTICO"
      ]
    },
    {
      "cell_type": "code",
      "execution_count": null,
      "metadata": {
        "id": "Abda0hD-8AgY"
      },
      "outputs": [],
      "source": [
        "cluster = pd.read_csv('https://raw.githubusercontent.com/MandbeZ/TFM_sequia/main/datos/spi_spei/cluster_4.csv',  sep = ',', usecols = {'id', 'cluster', 'estacion'})\n",
        "\n",
        "'''-- Declara DF para almacenar los y_pred,\n",
        "      DF para almacenar los datos de la evaluacion'''\n",
        "df_pred = pd.DataFrame()\n",
        "df_eval = pd.DataFrame(index = ['MAPE','MAE','RMSE','MSE'])\n",
        "columnas = []\n",
        "\n",
        "'''Definir el horizonte de la prediccion'''\n",
        "tam_ypred = 12\n",
        "\n",
        "for escala in [3,6,12]:\n",
        "        \n",
        "    '''1. Cargar archivo'''\n",
        "    cad = 'spi'+str(escala)\n",
        "    datos = cargar_datos('indices_' +cad+ '.csv')\n",
        "\n",
        "    '''2. Procesamiento de datos'''\n",
        "    datos_procesados = procesa_datos(datos)\n",
        "\n",
        "    '''-- Normalizar datos'''\n",
        "    datos_normalizados = normalizar_datos(datos_procesados)    \n",
        "    \n",
        "    '''definir los clusters'''\n",
        "    lista_cluster = sorted(cluster['cluster'].unique())\n",
        "    for i in lista_cluster:\n",
        "\n",
        "        '''-- Trabajar con un cluster'''\n",
        "        serie = gen_cluster(cluster, i, datos_normalizados)\n",
        "\n",
        "        '''3. Datos de entrenamiento y prueba'''\n",
        "        y_train, y_test = dividir_datos(serie, tamanio = tam_ypred)\n",
        "\n",
        "        '''Definir el horizonte de predicción'''\n",
        "        horizonte_prediccion = horizon_prediccion(y_test)\n",
        "\n",
        "        '''4. Configurar algoritmo de regresión, valores ['DecisionTreeRegressor','RandomForestRegressor', 'KNeighborsRegressor']'''\n",
        "        predictor = config_algoritmoReg('RandomForestRegressor',  ventana = 48, estrategia = 'recursive',estimadores=30, vecinos=11)\n",
        "\n",
        "        '''5. Ajuste modelo'''\n",
        "        predictor = ajuste(predictor, y_train)\n",
        "\n",
        "        '''6. Predicción'''\n",
        "        y_pred = prediccion(predictor, horizonte_prediccion)\n",
        "\n",
        "        '''7. Evaluación'''\n",
        "        datos_eval = evaluacion_modelo(y_test, y_pred)\n",
        "\n",
        "        '''-- Almacenar todos los y_pred, datos_eval en DFs y nombre de columnas'''\n",
        "        df_pred = pd.concat([df_pred, y_pred.reset_index(drop=True)], axis = 1)\n",
        "        df_eval[indice+str(escala)+'_c'+str(i)] = datos_eval\n",
        "        columnas.append(indice+str(escala)+'_c'+str(i))\n",
        "        \n",
        "'''Cambiar el nombre de las columnas'''\n",
        "df_pred.columns = columnas\n",
        "\n"
      ]
    },
    {
      "cell_type": "code",
      "execution_count": null,
      "metadata": {
        "id": "qJ4IQZxviIGn",
        "scrolled": true
      },
      "outputs": [],
      "source": [
        "graficar_pred_est(df_pred, 'Modelo RandomForestRegressor')"
      ]
    },
    {
      "cell_type": "code",
      "execution_count": null,
      "metadata": {
        "id": "NLnXKRB91QBb"
      },
      "outputs": [],
      "source": [
        "df_pred"
      ]
    },
    {
      "cell_type": "code",
      "execution_count": null,
      "metadata": {
        "id": "QFXXCZxN1QYv"
      },
      "outputs": [],
      "source": [
        "df_eval"
      ]
    },
    {
      "cell_type": "code",
      "execution_count": null,
      "metadata": {
        "id": "d7Mmuby7ikut"
      },
      "outputs": [],
      "source": [
        "t1 = pd.Timestamp.now()\n",
        "t1-t0"
      ]
    }
  ],
  "metadata": {
    "colab": {
      "collapsed_sections": [],
      "machine_shape": "hm",
      "name": "4.0.Modelo_Univariante_ARIMA_RF__SPI_SPEI(Por_cluster).ipynb",
      "provenance": [],
      "include_colab_link": true
    },
    "kernelspec": {
      "display_name": "tfm",
      "language": "python",
      "name": "tfm"
    },
    "language_info": {
      "codemirror_mode": {
        "name": "ipython",
        "version": 3
      },
      "file_extension": ".py",
      "mimetype": "text/x-python",
      "name": "python",
      "nbconvert_exporter": "python",
      "pygments_lexer": "ipython3",
      "version": "3.9.10"
    }
  },
  "nbformat": 4,
  "nbformat_minor": 0
}